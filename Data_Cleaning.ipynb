{
 "cells": [
  {
   "cell_type": "code",
   "execution_count": 1,
   "metadata": {},
   "outputs": [],
   "source": [
    "import datetime\n",
    "import re \n",
    "import nltk\n",
    "import pandas as pd \n",
    "import numpy as np"
   ]
  },
  {
   "cell_type": "code",
   "execution_count": 352,
   "metadata": {},
   "outputs": [
    {
     "data": {
      "text/html": [
       "<div>\n",
       "<style scoped>\n",
       "    .dataframe tbody tr th:only-of-type {\n",
       "        vertical-align: middle;\n",
       "    }\n",
       "\n",
       "    .dataframe tbody tr th {\n",
       "        vertical-align: top;\n",
       "    }\n",
       "\n",
       "    .dataframe thead th {\n",
       "        text-align: right;\n",
       "    }\n",
       "</style>\n",
       "<table border=\"1\" class=\"dataframe\">\n",
       "  <thead>\n",
       "    <tr style=\"text-align: right;\">\n",
       "      <th></th>\n",
       "      <th>Bank</th>\n",
       "      <th>Date</th>\n",
       "      <th>Position</th>\n",
       "      <th>Text</th>\n",
       "      <th>Price Target</th>\n",
       "      <th>Stock</th>\n",
       "    </tr>\n",
       "  </thead>\n",
       "  <tbody>\n",
       "    <tr>\n",
       "      <th>0</th>\n",
       "      <td>EVERCORE ISI</td>\n",
       "      <td>21-Nov-2019</td>\n",
       "      <td>Outperform</td>\n",
       "      <td>Technology | IT Hardware November 21, 2019 Am...</td>\n",
       "      <td>275.0</td>\n",
       "      <td>AAPL</td>\n",
       "    </tr>\n",
       "    <tr>\n",
       "      <th>1</th>\n",
       "      <td>MORGAN STANLEY</td>\n",
       "      <td>19-Nov-2019</td>\n",
       "      <td>DNE</td>\n",
       "      <td>November 19, 2019 04:17 AM GMT MORGAN STANLEY...</td>\n",
       "      <td>DNE</td>\n",
       "      <td>AAPL</td>\n",
       "    </tr>\n",
       "    <tr>\n",
       "      <th>2</th>\n",
       "      <td>EVERCORE ISI</td>\n",
       "      <td>17-Nov-2019</td>\n",
       "      <td>Outperform</td>\n",
       "      <td>Technology | IT Hardware November 17, 2019 Am...</td>\n",
       "      <td>275.0</td>\n",
       "      <td>AAPL</td>\n",
       "    </tr>\n",
       "    <tr>\n",
       "      <th>3</th>\n",
       "      <td>EVERCORE ISI</td>\n",
       "      <td>16-Nov-2019</td>\n",
       "      <td>DNE</td>\n",
       "      <td>Technology | IT Hardware November 16, 2019 Am...</td>\n",
       "      <td>DNE</td>\n",
       "      <td>AAPL</td>\n",
       "    </tr>\n",
       "    <tr>\n",
       "      <th>4</th>\n",
       "      <td>JPMORGAN</td>\n",
       "      <td>15-Nov-2019</td>\n",
       "      <td>Overweight</td>\n",
       "      <td>North America Equity Research 15 November 201...</td>\n",
       "      <td>290.0</td>\n",
       "      <td>AAPL</td>\n",
       "    </tr>\n",
       "  </tbody>\n",
       "</table>\n",
       "</div>"
      ],
      "text/plain": [
       "             Bank         Date    Position  \\\n",
       "0    EVERCORE ISI  21-Nov-2019  Outperform   \n",
       "1  MORGAN STANLEY  19-Nov-2019         DNE   \n",
       "2    EVERCORE ISI  17-Nov-2019  Outperform   \n",
       "3    EVERCORE ISI  16-Nov-2019         DNE   \n",
       "4        JPMORGAN  15-Nov-2019  Overweight   \n",
       "\n",
       "                                                Text Price Target Stock  \n",
       "0   Technology | IT Hardware November 21, 2019 Am...        275.0  AAPL  \n",
       "1   November 19, 2019 04:17 AM GMT MORGAN STANLEY...          DNE  AAPL  \n",
       "2   Technology | IT Hardware November 17, 2019 Am...        275.0  AAPL  \n",
       "3   Technology | IT Hardware November 16, 2019 Am...          DNE  AAPL  \n",
       "4   North America Equity Research 15 November 201...        290.0  AAPL  "
      ]
     },
     "execution_count": 352,
     "metadata": {},
     "output_type": "execute_result"
    }
   ],
   "source": [
    "ticker_list = ['AAPL','ADBE','AMZN','BA','CMCSA','CSCO','CVX','DIS','FB','GOOGL','INTC','KO','LOW','MCD','MSFT','MU',\n",
    "               'NFLX','NKE','PEP','SBUX','T','TGT','VZ','WMT','XOM']\n",
    "def combine(tickerList):                             #will return a combined giant data_frame\n",
    "    main_data = pd.DataFrame()\n",
    "    for ticker in ticker_list:\n",
    "        path = '/Users/Ethan Ohman/Desktop/Equity Research/{0}/{0}.csv'.format(ticker)\n",
    "        temp_frame = pd.read_csv(path)\n",
    "        temp_frame = pd.DataFrame({'Bank':temp_frame['Bank'],'Date':temp_frame['Date'],'Position':temp_frame['Position'],'Text':temp_frame['Text'],'Price Target':temp_frame['Price Target']})\n",
    "        stock = pd.Series([ticker]*len(temp_frame['Bank']))\n",
    "        temp_frame['Stock'] = stock\n",
    "        main_data = main_data.append(temp_frame, sort=False)\n",
    "    return main_data\n",
    "\n",
    "main = combine(ticker_list)\n",
    "main.head()"
   ]
  },
  {
   "cell_type": "code",
   "execution_count": 132,
   "metadata": {},
   "outputs": [
    {
     "data": {
      "text/plain": [
       "DNE                       3066\n",
       "Overweight                 893\n",
       "BUY                        797\n",
       "OUTPERFORM                 509\n",
       "HOLD                       430\n",
       "Equal-weight               281\n",
       "Outperform                 209\n",
       "PERFORM                    175\n",
       "IN LINE                     90\n",
       "In Line                     82\n",
       "UNDERPERFORM                46\n",
       "Underweight                 41\n",
       "Neutral                     39\n",
       "Industry View               29\n",
       "Bloomberg NYSE: VZ          26\n",
       "Apple Inc.                  16\n",
       "LONG                        15\n",
       "++                          15\n",
       "Price target $53.00         14\n",
       "chg        Curr. Y (e       14\n",
       "Cisco Systems               13\n",
       "McDonald's Corporation      12\n",
       "ExxonMobil Corporation       9\n",
       "NOT RATED                    8\n",
       "Long                         8\n",
       "Netflix, Inc.                8\n",
       "Chevron Corporation          8\n",
       "OVERWEIGHT                   8\n",
       "AT&T, Inc.                   8\n",
       "Facebook, Inc.               8\n",
       "Amazon.Com, Inc.             8\n",
       "SELL                         7\n",
       "In-Line                      6\n",
       "Starbucks Corporation        6\n",
       "Franchise Pick               6\n",
       "Comcast                      5\n",
       "Intel Corp.                  5\n",
       "Google, Inc.                 5\n",
       "Price target $54.00          5\n",
       "Verizon                      4\n",
       "UNPF                         4\n",
       "Bloomberg NASDAQ: MSFT       4\n",
       "Lowe's Cos.                  3\n",
       "COVERAGE SUSPENDED           3\n",
       "Bloomberg NASDAQ: AMZN       3\n",
       "Microsoft Corporation        3\n",
       "Bloomberg NYSE: BA           2\n",
       "Price target $55.00          2\n",
       "Bloomberg NYSE: CVX          2\n",
       "to Â¥261.00 (Â¥422.00        2\n",
       "Name: Position, dtype: int64"
      ]
     },
     "execution_count": 132,
     "metadata": {},
     "output_type": "execute_result"
    }
   ],
   "source": [
    "main['Position'].value_counts().head(50)"
   ]
  },
  {
   "cell_type": "code",
   "execution_count": 242,
   "metadata": {},
   "outputs": [],
   "source": [
    "bank_list = ['MORGAN STANLEY','EVERCORE ISI','JEFFERIES','JPMORGAN','OPPENHEIMER AND CO']\n",
    "def inBanks(x):\n",
    "    for bank in bank_list:\n",
    "        if(x == bank):\n",
    "            return True\n",
    "    return False\n",
    "\n",
    "def lowerCase(x):\n",
    "    x = str(x)\n",
    "    return x.lower()"
   ]
  },
  {
   "cell_type": "code",
   "execution_count": 353,
   "metadata": {},
   "outputs": [
    {
     "name": "stdout",
     "output_type": "stream",
     "text": [
      "DNE       3108\n",
      "40.0        86\n",
      "130.0       79\n",
      "110.0       75\n",
      "60.0        74\n",
      "50.0        72\n",
      "48.0        67\n",
      "55.0        65\n",
      "80.0        61\n",
      "125.0       54\n",
      "44.0        49\n",
      "115.0       48\n",
      "64.0        48\n",
      "72.0        47\n",
      "45.0        46\n",
      "140.0       43\n",
      "58.0        42\n",
      "38.0        42\n",
      "100.0       41\n",
      "39.0        41\n",
      "120.0       39\n",
      "400.0       38\n",
      "200.0       38\n",
      "42.0        38\n",
      "53.0        36\n",
      "70.0        35\n",
      "37.0        35\n",
      "135.0       35\n",
      "51.0        34\n",
      "46.0        34\n",
      "          ... \n",
      "2000.0       1\n",
      "71.83        1\n",
      "150.0        1\n",
      "113.22       1\n",
      "61.8         1\n",
      "360.0        1\n",
      "151.0        1\n",
      "134.0        1\n",
      "215.0        1\n",
      "850.0        1\n",
      "194.0        1\n",
      "43.5         1\n",
      "0.11         1\n",
      "172.0        1\n",
      "620.0        1\n",
      "192.0        1\n",
      "565.37       1\n",
      "33.94        1\n",
      "822.0        1\n",
      "37.49        1\n",
      "27.75        1\n",
      "370.0        1\n",
      "32.33        1\n",
      "94.34        1\n",
      "81.0         1\n",
      "1970.0       1\n",
      "547.33       1\n",
      "509.0        1\n",
      "31.5         1\n",
      "670.0        1\n",
      "Name: Price Target, Length: 441, dtype: int64\n"
     ]
    }
   ],
   "source": [
    "#create a main database of info\n",
    "main = main[~(main['Text'].isnull()) & (main['Text'] != 'DNE') & ~(main['Price Target'].isnull())]\n",
    "main['Price Target'] = main['Price Target'].apply(price_target_clean)\n",
    "main['Test'] = main['Bank'].apply(inBanks)\n",
    "main = main[main['Test']]\n",
    "main.drop('Test',axis=1,inplace=True)\n",
    "main['Position'] = main['Position'].apply(lowerCase)\n",
    "print(main['Price Target'].value_counts())\n"
   ]
  },
  {
   "cell_type": "code",
   "execution_count": 354,
   "metadata": {},
   "outputs": [],
   "source": [
    "main.to_csv('/Users/Ethan Ohman/Desktop/Equity Research/main_data.csv')"
   ]
  },
  {
   "cell_type": "code",
   "execution_count": 31,
   "metadata": {},
   "outputs": [],
   "source": [
    "#CREATE A DATA FRAME FOR NLP ANALYSIS\n",
    "main.columns\n",
    "nlp_df = main.drop(['Bank','Date','Price Target','Stock'],axis=1)\n",
    "nlp_df = nlp_df[(nlp_df['Position'] != 'dne')]\n",
    "nlp_df.to_csv('/Users/Ethan Ohman/Desktop/Equity Research/nlp_data.csv')"
   ]
  },
  {
   "cell_type": "code",
   "execution_count": 2,
   "metadata": {},
   "outputs": [],
   "source": [
    "def date_init(dateString):  #for the date column processing\n",
    "    date_list = dateString.split('-')\n",
    "    date_dict = {'Jan':1,'Feb':2,'Mar':3,'Apr':4,'May':5,'Jun':6,'Jul':7,'Aug':8,'Sep':9,'Oct':10,'Nov':11,'Dec':12}\n",
    "    month = date_dict.get(date_list[1])\n",
    "    dateString = '{0}/{1}/{2}'.format(date_list[0],month,date_list[2].strip()[2:])\n",
    "    date = datetime.datetime.strptime(dateString, \"%d/%m/%y\")\n",
    "    return date"
   ]
  },
  {
   "cell_type": "code",
   "execution_count": 3,
   "metadata": {},
   "outputs": [],
   "source": [
    "def position_clean(position):   #change Outpreform to Buy, Neutral and UndertoSell,   Anything else is turned to = null \n",
    "    word_dict = {'positive':['overweight','buy','outperform','long'],\n",
    "                 'negative':['underperform','underweight','sell']}\n",
    "    for words in word_dict['positive']:\n",
    "        if(position == words):\n",
    "            return 'positive'\n",
    "    for words in word_dict['negative']:\n",
    "        if(position == words):\n",
    "            return 'negative'\n",
    "    return 'dne'\n",
    "    "
   ]
  },
  {
   "cell_type": "code",
   "execution_count": 4,
   "metadata": {},
   "outputs": [],
   "source": [
    "def price_target_clean(price):\n",
    "    if(type(price) == list):\n",
    "        print('true')\n",
    "        price = 'DNE'\n",
    "    try:\n",
    "        price.index('$')\n",
    "        price = price.split(' ')\n",
    "        price = float(price[0][1:])\n",
    "    except:\n",
    "        try:\n",
    "            price.index('NA')\n",
    "            price = 'DNE'\n",
    "        except:\n",
    "            try:\n",
    "                price.index('(')\n",
    "                price = price.split(' ')\n",
    "                price = float(price[0])\n",
    "            except:\n",
    "                try:\n",
    "                    price.index('-')\n",
    "                    price = price.split('-')\n",
    "                    price = float(price[0])\n",
    "                except:\n",
    "                    try:\n",
    "                        float(price)\n",
    "                    except:\n",
    "                        price = 'DNE'\n",
    "    return(price)\n",
    "        "
   ]
  },
  {
   "cell_type": "code",
   "execution_count": 5,
   "metadata": {},
   "outputs": [],
   "source": [
    "def feature_init(x,y):\n",
    "    if(x == y):\n",
    "        return 1\n",
    "    else:\n",
    "        return 0"
   ]
  },
  {
   "cell_type": "code",
   "execution_count": 6,
   "metadata": {},
   "outputs": [
    {
     "name": "stderr",
     "output_type": "stream",
     "text": [
      "[nltk_data] Downloading package stopwords to C:\\Users\\Ethan\n",
      "[nltk_data]     Ohman\\AppData\\Roaming\\nltk_data...\n",
      "[nltk_data]   Package stopwords is already up-to-date!\n"
     ]
    }
   ],
   "source": [
    "from nltk.corpus import stopwords\n",
    "nltk.download('stopwords')\n",
    "stopwords = set(stopwords.words('english'))\n",
    "# normalize \n",
    "def review_messages(msg):\n",
    "    # converting messages to lowercase\n",
    "    msg = msg.lower()\n",
    "#     msg = [word for word in msg.split() if word not in stopwords]\n",
    "    return msg"
   ]
  },
  {
   "cell_type": "code",
   "execution_count": 10,
   "metadata": {},
   "outputs": [
    {
     "data": {
      "text/plain": [
       "positive    2439\n",
       "negative      94\n",
       "Name: position, dtype: int64"
      ]
     },
     "execution_count": 10,
     "metadata": {},
     "output_type": "execute_result"
    }
   ],
   "source": [
    "#NLP Model Start here\n",
    "nlp_data = pd.read_csv('/Users/Ethan Ohman/Desktop/Equity Research/nlp_data.csv')\n",
    "nlp_data = pd.DataFrame({'Position':nlp_data['Position'], 'Text':nlp_data['Text']})\n",
    "nlp_data.columns = [col.lower() for col in nlp_data.columns]\n",
    "nlp_data['position'].value_counts()"
   ]
  },
  {
   "cell_type": "code",
   "execution_count": 11,
   "metadata": {},
   "outputs": [
    {
     "data": {
      "text/html": [
       "<div>\n",
       "<style scoped>\n",
       "    .dataframe tbody tr th:only-of-type {\n",
       "        vertical-align: middle;\n",
       "    }\n",
       "\n",
       "    .dataframe tbody tr th {\n",
       "        vertical-align: top;\n",
       "    }\n",
       "\n",
       "    .dataframe thead th {\n",
       "        text-align: right;\n",
       "    }\n",
       "</style>\n",
       "<table border=\"1\" class=\"dataframe\">\n",
       "  <thead>\n",
       "    <tr style=\"text-align: right;\">\n",
       "      <th></th>\n",
       "      <th>position</th>\n",
       "      <th>text</th>\n",
       "    </tr>\n",
       "  </thead>\n",
       "  <tbody>\n",
       "    <tr>\n",
       "      <th>0</th>\n",
       "      <td>positive</td>\n",
       "      <td>technology | it hardware november 21, 2019 am...</td>\n",
       "    </tr>\n",
       "    <tr>\n",
       "      <th>1</th>\n",
       "      <td>positive</td>\n",
       "      <td>technology | it hardware november 17, 2019 am...</td>\n",
       "    </tr>\n",
       "    <tr>\n",
       "      <th>2</th>\n",
       "      <td>positive</td>\n",
       "      <td>north america equity research 15 november 201...</td>\n",
       "    </tr>\n",
       "    <tr>\n",
       "      <th>3</th>\n",
       "      <td>positive</td>\n",
       "      <td>north america equity research 06 november 201...</td>\n",
       "    </tr>\n",
       "    <tr>\n",
       "      <th>4</th>\n",
       "      <td>positive</td>\n",
       "      <td>technology | it hardware november 04, 2019 am...</td>\n",
       "    </tr>\n",
       "  </tbody>\n",
       "</table>\n",
       "</div>"
      ],
      "text/plain": [
       "   position                                               text\n",
       "0  positive   technology | it hardware november 21, 2019 am...\n",
       "1  positive   technology | it hardware november 17, 2019 am...\n",
       "2  positive   north america equity research 15 november 201...\n",
       "3  positive   north america equity research 06 november 201...\n",
       "4  positive   technology | it hardware november 04, 2019 am..."
      ]
     },
     "execution_count": 11,
     "metadata": {},
     "output_type": "execute_result"
    }
   ],
   "source": [
    "nlp_data['text'] = nlp_data['text'].apply(review_messages)\n",
    "nlp_data.head()"
   ]
  },
  {
   "cell_type": "code",
   "execution_count": 12,
   "metadata": {},
   "outputs": [],
   "source": [
    "from sklearn.model_selection import train_test_split\n",
    "X_train, X_test, y_train, y_test = train_test_split(nlp_data['text'], nlp_data['position'], test_size = 0.2, random_state = 1)\n",
    "# training the vectorizer \n",
    "from sklearn.feature_extraction.text import TfidfVectorizer\n",
    "vectorizer = TfidfVectorizer()\n",
    "X_train = vectorizer.fit_transform(X_train)"
   ]
  },
  {
   "cell_type": "code",
   "execution_count": 13,
   "metadata": {},
   "outputs": [
    {
     "name": "stderr",
     "output_type": "stream",
     "text": [
      "C:\\Users\\Ethan Ohman\\Anaconda3\\lib\\site-packages\\sklearn\\svm\\base.py:193: FutureWarning: The default value of gamma will change from 'auto' to 'scale' in version 0.22 to account better for unscaled features. Set gamma explicitly to 'auto' or 'scale' to avoid this warning.\n",
      "  \"avoid this warning.\", FutureWarning)\n"
     ]
    },
    {
     "data": {
      "text/plain": [
       "SVC(C=100, cache_size=200, class_weight=None, coef0=0.0,\n",
       "    decision_function_shape='ovr', degree=3, gamma='auto_deprecated',\n",
       "    kernel='rbf', max_iter=-1, probability=False, random_state=None,\n",
       "    shrinking=True, tol=0.001, verbose=False)"
      ]
     },
     "execution_count": 13,
     "metadata": {},
     "output_type": "execute_result"
    }
   ],
   "source": [
    "# train\n",
    "from sklearn import svm\n",
    "svm = svm.SVC(C=100)\n",
    "svm.fit(X_train, y_train)"
   ]
  },
  {
   "cell_type": "code",
   "execution_count": 14,
   "metadata": {},
   "outputs": [
    {
     "name": "stdout",
     "output_type": "stream",
     "text": [
      "[[  0  19]\n",
      " [  0 488]]\n"
     ]
    }
   ],
   "source": [
    "# test\n",
    "from sklearn.metrics import confusion_matrix\n",
    "X_test = vectorizer.transform(X_test)\n",
    "y_pred = svm.predict(X_test)\n",
    "print(confusion_matrix(y_test, y_pred))"
   ]
  },
  {
   "cell_type": "code",
   "execution_count": 15,
   "metadata": {},
   "outputs": [
    {
     "name": "stdout",
     "output_type": "stream",
     "text": [
      "0.9941760138050043\n"
     ]
    }
   ],
   "source": [
    "from sklearn.metrics import roc_auc_score\n",
    "y_score =svm.decision_function(X_test)\n",
    "print(roc_auc_score(y_test, y_score))"
   ]
  },
  {
   "cell_type": "code",
   "execution_count": 16,
   "metadata": {},
   "outputs": [],
   "source": [
    "def pred(msg):\n",
    "    msg = vectorizer.transform([msg])\n",
    "    prediction = svm.predict(msg)\n",
    "    return prediction[0]\n",
    "\n",
    "nlp_data['pred'] = nlp_data['text'].apply(pred)"
   ]
  },
  {
   "cell_type": "code",
   "execution_count": 13,
   "metadata": {},
   "outputs": [],
   "source": [
    "# nlp_data.head(100)\n",
    "# nlp_data.to_csv('/Users/Ethan Ohman/Desktop/Equity Research/nlp_test.csv')"
   ]
  },
  {
   "cell_type": "code",
   "execution_count": 106,
   "metadata": {},
   "outputs": [],
   "source": [
    "# make a method which creates dummy variables for stock, bank, and positivity score\n",
    "# make a method to return the metric of diff in stock price after a week, two weeks\n",
    "# just do a linear regression ml model (do multiple ones)"
   ]
  },
  {
   "cell_type": "code",
   "execution_count": 17,
   "metadata": {},
   "outputs": [],
   "source": [
    "data = pd.read_csv('/Users/Ethan Ohman/Desktop/Equity Research/main_data.csv')\n",
    "data = data[(data['Price Target'] != 'DNE')]\n",
    "data['Position'] = data['Text'].apply(pred)   \n",
    "data['Date'] = data['Date'].apply(date_init)"
   ]
  },
  {
   "cell_type": "code",
   "execution_count": 18,
   "metadata": {},
   "outputs": [
    {
     "data": {
      "text/plain": [
       "(4094, 27)"
      ]
     },
     "execution_count": 18,
     "metadata": {},
     "output_type": "execute_result"
    }
   ],
   "source": [
    "ticker_list = ['AAPL','ADBE','AMZN','BA','CMCSA','CSCO','CVX','DIS','FB','GOOGL','INTC','KO','LOW','MCD','MSFT','MU',\n",
    "               'NFLX','NKE','PEP','SBUX','T','TGT','VZ','WMT','XOM']\n",
    "\n",
    "bank_list = ['MORGAN STANLEY','EVERCORE ISI','JEFFERIES','JPMORGAN','OPPENHEIMER AND CO']\n",
    "\n",
    "stock_df = pd.DataFrame()\n",
    "for ticker in ticker_list:\n",
    "    stock_df[ticker] = data['Stock'].apply(feature_init, args=(ticker,))\n",
    "stock_df['Date'] = data['Date']\n",
    "stock_df['Stock'] = data['Stock']\n",
    "stock_df.shape"
   ]
  },
  {
   "cell_type": "code",
   "execution_count": 19,
   "metadata": {},
   "outputs": [
    {
     "data": {
      "text/plain": [
       "(4094, 7)"
      ]
     },
     "execution_count": 19,
     "metadata": {},
     "output_type": "execute_result"
    }
   ],
   "source": [
    "bank_df = pd.DataFrame()\n",
    "for bank in data['Bank']:\n",
    "    bank_df[bank] = data['Bank'].apply(feature_init, args=(bank,))\n",
    "bank_df['Date'] = data['Date']\n",
    "bank_df['Stock'] = data['Stock']\n",
    "bank_df.shape"
   ]
  },
  {
   "cell_type": "code",
   "execution_count": 20,
   "metadata": {},
   "outputs": [
    {
     "data": {
      "text/plain": [
       "(4094, 3)"
      ]
     },
     "execution_count": 20,
     "metadata": {},
     "output_type": "execute_result"
    }
   ],
   "source": [
    "sentiment_df = pd.DataFrame()\n",
    "for sent in data['Position']:\n",
    "    sentiment_df[sent] = data['Position'].apply(feature_init, args=(sent,))\n",
    "sentiment_df['Date'] = data['Date']\n",
    "sentiment_df['Stock'] = data['Stock']\n",
    "sentiment_df.head()\n",
    "sentiment_df.shape"
   ]
  },
  {
   "cell_type": "code",
   "execution_count": 33,
   "metadata": {},
   "outputs": [],
   "source": [
    "def convert_date(date):\n",
    "    date_l = date.split('/')\n",
    "    date_s = '{0}/{1}/{2}'.format(date_l[0], date_l[1],date_l[2][2:])\n",
    "    return datetime.datetime.strptime(date_s, '%d/%m/%y')"
   ]
  },
  {
   "cell_type": "code",
   "execution_count": null,
   "metadata": {},
   "outputs": [],
   "source": [
    "#helper function - get_metric makes sure an initial price is returned\n",
    "\n",
    "def get_metric(date, price_target, stock_data_frame, section_data_frame, indexer, buffer):\n",
    "    while(not(abs(stock_data_frame.iloc[indexer]['Close'] - price_target) <= buffer)):\n",
    "        indexer += -1 #back tracks through the stock price data \n",
    "        if(indexer == -1):\n",
    "            return None \n",
    "    # at this point means the data is true\n",
    "    price_diff = abs(price_target - stock_data_frame.iloc[indexer]['Close'])\n",
    "    time_diff = abs((stock_data_frame.iloc[indexer]['Date'] - date).days)\n",
    "    return price_diff*time_diff"
   ]
  },
  {
   "cell_type": "code",
   "execution_count": 99,
   "metadata": {},
   "outputs": [
    {
     "name": "stdout",
     "output_type": "stream",
     "text": [
      "[1609800, 1459700, 2011300, 2762400, 2790200, 2845100, 2845100, 2845100, 2845100, 2320700, 2320700, 2320700, 2281800, 2281800, 2281800, 3511000, 3511000, 3349100, 1372600, 2566300, 3370100, 3992300, 3288100, 2774700, 2774700, 2955000, 2594000, 4097800, 3134500, 2835900, 2835900, 1837000, 2171900, 2776300, 1954500, 2326400, 2196700, 3210200, 3066900, 3066900, 3066900, 2158000, 2158000, 2778400, 2778400, 1378500, 1378500, 1458800, 1826800, 1336400, 1336400, 1644300, 1644300, 1909200, 1909200, 2596800, 5632500, 4529300, 2254200, 1696400, 1313700, 2969300, 2650400, 3903400, 1806000, 2046600, 2056200, 2056200, 5592400, 1867600, 1681100, 2432800, 3150100, 2639300, 2359900, 3992500, 2484800, 1885000, 3705100, 5007200, 2482900, 2482900, 2482900, 2110400, 3822300, 3179500, 3685900, 3663500, 3663500, 3663500, 6110800, 3179400, 3194300, 3971100, 5156700, 3383500, 3498300, 2446700, 4335300, 4335300, 4335300, 4423000, 5626800, 5626800, 4725000, 4725000, 4405100, 5309300, 1735200, 2801400, 4774000, 2894300, 4203300, 2168900, 2395400, 3185000, 1935700, 1730600, 2677400, 2757600, 2202900, 2403700, 3008700, 2233300, 3801300, 2813800, 2574200, 2969500, 2164100, 3976300, 2021900, 2244700, 4014800, 1363900, 2112000, 2112000, 1880100, 1308300, 1847600, 3558500, 1845500, 1974200, 1974200, 2007600, 2197200, 1699600, 1695400, 1859100, 1859100, 1617900, 2504000, 2140300, 1623700, 1623700, 2014900, 1968000, 2025300, 2110600, 2312900, 2312900, 2579500, 3925700, 1952000, 1954500, 2221100, 2082800, 2082800, 2066900, 2712100, 2712100, 12530100, 3185700, 4679500, 3070600, 3070600, 3070600, 3667200, 4087500, 2717800, 3069700, 3784100, 2102200, 3206700, 3206700, 3206700, 6744100, 4596000, 3774300, 14474800, 4007700, 3436300, 3541000, 3541000, 2460300, 2670600, 3480100, 3480100, 1999600, 1999600, 2072700, 2601200, 2601200, 2601200, 2058100, 4944400, 2100900, 2100900, 1621300, 1972000, 1248400, 2761200, 2639000, 2009500, 1655600, 2109200, 2423900, 1698200, 1698200, 1698200, 1653200, 1653200, 1714100, 1523800, 1556200, 5719000, 2622000, 2622000, 2010900, 2010900, 2010900, 1616300, 1497700, 1600900, 2281100, 2281100, 2281100, 2281100, 2281100, 1612000, 2839200, 2403300, 6170600, 6170600, 6170600, 2827200, 2320700, 1723100, 3511000, 7449700, 7449700, 7449700, 4069200, 2774700, 2594000, 1507800, 9738600, 9738600, 9738600, 4529300, 2254200, 2262800, 2046600, 2046600, 2482300, 5592400, 2521900, 2521900, 2521900, 12110500, 12110500, 12110500, 12110500, 3992500, 3992500, 2711700, 3643000, 2606800, 12189400, 12189400, 12189400, 12189400, 4067900, 3179400, 3194300, 5378900, 8679600, 8679600, 8679600, 4779900, 6186500, 2560200, 2560200, 6182500, 6182500, 6182500, 4774000, 2810800, 2894300, 2552000, 9052800, 9052800, 5618300, 5618300, 4169200, 2677400, 2950200, 1757900, 1757900, 2620100, 3404400, 2029300, 3757400, 5468100, 5019300, 8783000, 8783000, 8783000, 8783000, 4732000, 3216900, 3250500, 3981000, 3981000, 1701300, 1701300, 9191700, 9191700, 4720900, 4720900, 4591700, 3262300, 13522600, 13522600, 4290900, 4290900, 4290900, 2817600, 9372300, 9372300, 9372300, 4014800, 2581000, 1766400, 1449400, 8251900, 8251900, 8251900, 4205800, 2197200, 3477300, 8749900, 8749900, 8749900, 2396300, 1819700, 3081000, 3081000, 2925000, 8949400, 8949400, 8949400, 2620600, 7301700, 7301700, 3667000, 3667000, 8764500, 8764500, 8764500, 3095000, 10280500, 10280500, 10280500, 1952000, 2767600, 12530100, 12530100, 4679500, 8315000, 8315000, 14474800, 14474800, 14474800, 3407800, 3407800, 16424000, 16424000, 4892900, 4892900, 2545900, 6464200, 3579400, 3579400, 2639000, 2676200, 10509400, 5719000, 5719000, 1692200, 9626400, 2910900, 4927100, 2631300, 2618200, 6099100, 6167400, 11506200, 5998500, 6613200, 8458700, 5783200, 6486900, 14963800, 5253100, 4026900, 11472700, 3939300, 3262100, 3380600, 7508400, 2714700, 2792400, 4172600, 3466100, 10868800, 10868800, 10868800, 10868800, 7350500, 2797500, 2354200, 4873900, 3561300, 4666000, 5311300, 4373400, 10841100, 10841100, 10841100, 10841100, 10841100, 3469100, 1623000, 1563300, 1563300, 6777100, 6777100, 6777100, 7617600, 2529700, 2945800, 2431400, 2732500, 4283200, 5432900, 5048200, 10310700, 10310700, 10310700, 10310700, 2521400, 2917400, 2681800, 5155700, 4377300, 4050800, 5566600, 7397400, 6355100, 14677600, 14677600, 14677600, 14677600, 14015200, 14015200, 5152900, 5120100, 5735000, 5064700, 10692700, 10692700, 10692700, 10692700, 7779400, 7779400, 3343600, 3537400, 4676400, 6358600, 21909400, 21909400, 21909400, 21909400, 9374400, 9374400, 2987400, 2271400, 2271400, 2237500, 1912400, 4121400, 2393700, 3647900, 17176900, 17176900, 17176900, 17176900, 17176900, 7980000, 3474700, 5016100, 3839700, 7247600, 23856100, 23856100, 23856100, 23856100, 8656600, 2920300, 5362600, 5387500, 3841400, 6036500, 4747800, 6075200, 6075200, 6030000, 6615000, 6615000, 6615000, 9855100, 7980100, 7980100, 9388100, 10143900, 10143900, 32662300, 36922600, 34742200, 34742200, 5063100, 4603800, 3263300, 3046900, 3046900, 6878500, 6878500, 6878500, 12705300, 4213900, 4213900, 4736500, 5881100, 4968400, 4968400, 4968400, 4968400, 4968400, 4968400, 4968400, 4968400, 4968400, 4968400, 4968400, 4968400, 4968400, 4968400, 4968400, 4968400, 4968400, 4968400, 4968400, 4968400, 4968400, 4968400, 4968400, 4968400, 4968400, 4968400, 4968400, 4968400, 4968400, 4968400, 4968400, 4968400, 4968400, 4968400, 4968400, 3566400, 6573400, 4960000, 4003500, 4003500, 8442600, 8442600, 2263500, 6033100, 2862700, 3166500, 2731800, 3585900, 2959000, 2959000, 1850100, 2333600, 3191200, 3191200, 3191200, 7378100, 2711700, 2272300, 3056900, 3278300, 2440400, 4014100, 3436100, 5273600, 5273600, 11023600, 11023600, 4325000, 4573500, 6220000, 7282200, 5443800, 4030200, 8295900, 6067600, 6067600, 6067600, 11409600, 4479300, 5641300, 4124900, 5398300, 6933500, 2267100, 1724800, 3419100, 3419100, 4401600, 2736400, 2736400, 3475600, 3853200, 4995200, 4995200, 4995200, 2953500, 5777300, 10860600, 10860600, 2737400, 3090400, 3090400, 2726400, 2210000, 3129100, 3129100, 3129100, 2309300, 1737200, 2505700, 3499000, 3451100, 2981700, 5436800, 5436800, 7480000, 7480000, 3384500, 3020500, 5650400, 4250600, 2928400, 2955800, 3770000, 2825900, 7857100, 7857100, 7857100, 13272000, 2435100, 3614900, 2199400, 3227800, 15256800, 18968800, 18968800, 18968800, 18968800, 9026200, 10501200, 26196000, 17000300, 25659200, 25659200, 16611000, 17737600, 19622200, 12693300, 16592600, 16530400, 16530400, 16530400, 27730500, 14237200, 24378500, 22890300, 26457000, 40436900, 36648300, 36648300, 23589100, 14327200, 42435100, 33839600, 33839600, 27905800, 31439300, 20489900, 40293000, 40293000, 40293000, 24577000, 22374100, 35125600, 50020200, 42639500, 45830100, 52988700, 32554700, 32554700, 39731600, 39731600, 69200000, 27799100, 27799100, 48918800, 48918800, 48918800, 48918800, 48918800, 48918800, 17026000, 17026000, 47358400, 23292300, 58632000, 51081700, 51081700, 51081700, 58632000, 58632000, 58632000, 58632000, 18562700, 26552600, 23398200, 18477600, 27131000, 20378100, 51419900, 51419900, 51419900, 51419900, 51419900, 17471300, 25062400, 12862700, 18189500, 26298700, 19452000, 19452000, 19452000, 35177200, 35177200, 35177200, 35177200, 35177200, 23316500, 23316500, 23316500, 23316500, 15556500, 10232300, 13126100, 18004000, 26341800, 23326800, 23326800, 52161400, 52161400, 52161400, 52161400, 23325000, 13528000, 22010800, 14040200, 14040200, 44967800, 44967800, 42837600, 42837600, 42837600, 42837600, 42837600, 42837600, 14942000, 18402400, 18402400, 15151800, 17688200, 19854800, 17688200, 17688200, 23705200, 23705200, 23705200, 23705200, 35744800, 35744800, 35744800, 14291800, 26537400, 21343800, 28125400, 28125400, 34142800, 34142800, 34142800, 34142800, 18770400, 15852600, 19763800, 34988600, 56292600, 56292600, 55999400, 55999400, 55999400, 24658400, 21063400, 54096800, 23280800, 23280800, 23280800, 23280800, 31677000, 31677000, 31677000, 20590400, 24069000, 20589400, 20589400, 41968000, 41968000, 41968000, 24538200, 28950200, 26743200, 34599200, 32248000, 32248000, 32248000, 42781000, 42781000, 88707800, 84976800, 23399200, 19520000, 23584000, 33931400, 40258000, 40258000, 40258000, 33001400, 65568900, 65568900, 65568900, 65568900, 25187000, 25187000, 15632900, 19590400, 14407000, 15018900, 15915500, 16450000, 16070600, 16119200, 61129100, 61129100, 61129100, 61129100, 21499500, 16388300, 19020600, 19334000, 19564000, 22521900, 46057800, 46057800, 30577200, 30577200, 25478300, 20846000, 18010900, 13817500, 18182200, 47598600, 47598600, 28325600, 28325600, 23909200, 18160500, 17744100, 30513800, 45983300, 45983300, 36613500, 36613500, 36613500, 26196700, 25581300, 21836200, 15810800, 14430200, 19122200, 24904200, 48648500, 48648500, 48648500, 27902200, 14322100, 13394300, 18033200, 18033200, 21650000, 24498800, 27460000, 15069000, 18812400, 48210400, 48210400, 31253700, 31253700, 24753600, 23750200, 21421500, 23539200, 30117600, 27771100, 72267500, 72267500, 43835900, 38210700, 27224200, 23984500, 21685600, 61177100, 61177100, 30829600, 17468500, 13935100, 22632000, 24361400, 18011000, 32396900, 53288800, 53288800, 29052000, 29052000, 20756600, 16929500, 23604600, 27664500, 27664500, 17732300, 23224200, 20386100, 24940400, 24940400, 21586500, 85500500, 85500500, 85500500, 38787800, 31531000, 13638500, 15983600, 50143700, 50143700, 50143700, 41169400, 31463500, 26518800, 27456700, 23630500, 24934200, 27556000, 75252300, 75252300, 75252300, 27097100, 24160200, 22917600, 15937100, 17542100, 48710500, 48710500, 48710500, 55071200, 55071200, 24020900, 18586500, 19332200, 17504100, 16167100, 18677700, 50174600, 50174600, 50174600, 32345500, 19326100, 25625300, 27361700, 18762900, 20395800, 21873100, 25245400, 92696000, 92696000, 92696000, 36896100, 30767200, 38842100, 38842100, 29280500, 29280500, 24006400, 22024900, 27417400, 94556200, 94556200, 94556200, 94556200, 25865900, 25865900, 22334100, 27095600, 40020100, 61154000, 61154000, 61154000, 61154000, 41085000, 16039400, 20376000, 34103200, 24461300, 26223300, 26223300, 26223300, 23799400, 26018100, 56696300, 56696300, 56696300, 38264000, 22572400, 22463800, 16484100, 29135500, 117439100, 117439100, 117439100, 46213500, 25482400, 28044300, 4786800, 5810900, 5810900, 10348800, 10348800, 7684700, 7684700, 3608900, 6108300, 8620300, 8620300, 9026200, 9026200, 5526900, 4890800, 16496300, 9495600, 11898100, 42693700, 5551400, 6184300, 7599900, 7743600, 5445600, 7987900, 7987900, 11225600, 10934300, 7097000, 7030500, 9114400, 6712500, 8758700, 8758700, 9890400, 9890400, 5644900, 4318000, 5729300, 5729300, 7580900, 7580900, 7631600, 8836600, 8836600, 8836600, 8836600, 6113100, 4598000, 5530800, 4587200, 6793100, 7957900, 7957900, 7957900, 6607300, 7516700, 15414700, 15414700, 13182600, 13182600, 13182600, 4908500, 4908500, 7366400, 6831800, 7517800, 7517800, 7517800, 14534100, 12340800, 12340800, 17435400, 5781800, 11550600, 11550600, 8226200, 10157600, 7766600, 6318100, 6844500, 6844500, 8826900, 6817700, 6552000, 19323100, 19323100, 10508400, 10958300, 10958300, 14534800, 11830700, 6975500, 10101100, 6686000, 11559300, 6686000, 6686000, 6686000, 6686000, 6686000, 6686000, 6686000, 6686000, 6686000, 6686000, 6686000, 6686000, 6686000, 6686000, 6686000, 6686000, 6686000, 6686000, 6686000, 6686000, 6686000, 6686000, 6686000, 6686000, 6686000, 6686000, 6686000, 6686000, 6686000, 6686000, 6686000, 6686000, 6686000, 6686000, 6686000, 6686000, 11032100, 14142200, 19063400, 8213900, 7660100, 10362700, 5760500, 8440700, 7506200, 11537600, 11537600, 13994400, 20584700, 4797000, 4797000, 4797000, 4797000, 4797000, 4797000, 4797000, 4797000, 4797000, 4797000, 4797000, 4797000, 4797000, 4797000, 4797000, 4797000, 4797000, 4797000, 4797000, 4797000, 4797000, 4797000, 4797000, 4797000, 4797000, 4797000, 4797000, 4797000, 4797000, 4797000, 4797000, 4797000, 4797000, 4797000, 4797000, 4797000, 4797000, 4797000, 4797000, 4797000, 4797000, 4797000, 4797000, 4797000, 4797000, 4797000, 4797000, 4797000, 4797000, 4797000, 4797000, 4797000, 4797000, 4797000, 4797000, 4797000, 4797000, 4797000, 4797000, 4797000, 4797000, 4797000, 4797000, 4797000, 4797000, 4797000, 4797000, 4797000, 4797000, 4797000, 4797000, 4797000, 4797000, 4797000, 4797000, 4797000, 4797000, 4797000, 4797000, 4797000, 4797000, 4797000, 4797000, 4797000, 4797000, 4797000, 4797000, 4797000, 4797000, 4797000, 4797000, 4797000, 4797000, 4797000, 4797000, 4797000, 4797000, 4797000, 4797000, 4797000, 4797000, 4797000, 4797000, 4797000, 4797000, 4797000, 4797000, 4797000, 4797000, 4797000, 4797000, 4797000, 4797000, 4797000, 4797000, 4797000, 4797000, 4797000, 4797000, 4797000, 4797000, 4797000, 4797000, 4797000, 4797000, 4797000, 4797000, 4797000, 4797000, 42286500, 42286500, 42286500, 42286500, 28734600, 16083300, 9671100, 10821400, 10083400, 9691200, 39889900, 39889900, 39889900, 32532500, 32532500, 32532500, 11159000, 12808600, 14635700, 21417100, 37571400, 10485400, 15996600, 15996600, 54148800, 54148800, 54148800, 54148800, 54148800, 37289900, 19751000, 18037400, 12755200, 77233600, 77233600, 77233600, 77233600, 44613200, 22237200, 15787900, 24069000, 26263800, 41939500, 60101300, 60101300, 60101300, 60101300, 60101300, 50528300, 25293500, 25744000, 25739600, 34265600, 169803700, 169803700, 169803700, 169803700, 169803700, 58954200, 16732000, 16732000, 12927400, 18149400, 18149400, 30424500, 77556900, 77556900, 41083600, 41083600, 41083600, 56144600, 57889300, 41449600, 49885600, 60029200, 73743000, 106598800, 129851800, 129851800, 129851800, 33128200, 54211300, 54211300, 54211300, 54211300, 43275100, 17377700, 77551300, 77551300, 17994700, 11860500, 20184900, 20182500, 35529900, 35529900, 35529900, 40918300, 68910700, 68910700, 68910700, 68910700, 36225500, 36225500, 36225500, 29782500, 15968200, 15563900, 15563900, 15535300, 54366400, 54366400, 54366400, 54366400, 54366400, 17324600, 22880400, 19492200, 43277000, 35415400, 32397900, 63766300, 63766300, 63766300, 63766300, 63766300, 15138700, 12804400, 15637100, 18016200, 27990800, 14222400, 18525300, 78955800, 78955800, 52654200, 87110100, 87110100, 87110100, 87110100, 52213100, 22521500, 88227400, 26248100, 24744800, 107475300, 107475300, 107475300, 107475300, 58699400, 26877100, 30518900, 46132800, 25096200, 22680500, 23577300, 63232900, 63232900, 63232900, 43469300, 43469300, 23729900, 25412900, 16321200, 22278800, 86211300, 86211300, 86211300, 64648300, 64648300, 39453300, 30886600, 13693700, 49438000, 73728100, 73728100, 73728100, 13769700, 19634200, 18372600, 32794800, 37436100, 22170000, 21662500, 22426400, 61293500, 61293500, 61293500, 53306400, 53306400, 25096700, 25179600, 2632700, 872000, 6060800, 4844500, 904400, 6658900, 4114800, 1455700, 1875900, 1448000, 2722900, 5321900, 1312300, 2065200, 1313000, 4354900, 1447600, 5090500, 3673200, 1073300, 1912300, 2125000, 1615700, 1626800, 7039900, 7039900, 7039900, 7039900, 7039900, 1274900, 1223900, 1083800, 1233900, 1641200, 6792300, 6792300, 6792300, 6792300, 5576100, 3790400, 2375300, 2343800, 6336300, 6336300, 6336300, 6336300, 4431600, 1606200, 2125300, 2647700, 2106500, 1934600, 1777300, 5494000, 5494000, 5494000, 1722900, 12858100, 12858100, 12858100, 12858100, 5632100, 2089600, 2059600, 1660500, 2172300, 1177200, 4608400, 4608400, 4608400, 2360300, 1618300, 2653500, 3957800, 2701600, 6055400, 6055400, 6055400, 3950900, 2553400, 3652700, 16139000, 17721000, 17721000, 19068000, 59767700, 59767700, 59767700, 23413000, 36401500, 36401500, 36401500, 36401500, 21688000, 35783900, 59642200, 59642200, 59642200, 59642200, 72364500, 72364500, 72364500, 72364500, 24552800, 24552800, 13704500, 31934100, 37442900, 43051300, 86455700, 86455700, 86455700, 86455700, 67280400, 67280400, 67280400, 67280400, 46223500, 23795600, 23795600, 21990600, 67816700, 67816700, 67816700, 28282500, 44435600, 44435600, 44435600, 69888100, 69888100, 69888100, 39575000, 39432400, 39432400, 67187800, 86916100, 86916100, 86916100, 36758700, 22135100, 116479000, 116479000, 25570400, 47813700, 47000900, 90028300, 90028300, 90028300, 90028300, 28647000, 36291500, 36291500, 43062800, 43062800, 23768300, 23768300, 25737500, 29918400, 56769300, 56769300, 39890000, 39890000, 17202600, 17202600, 17202600, 17202600, 16992200, 53582900, 53582900, 53582900, 53582900, 44106500, 44106500, 44106500, 47802700, 44368600, 44368600, 44368600, 34144800, 14462000, 16806900, 75229000, 75229000, 42907800, 42907800, 30531700, 30531700, 74577900, 74577900, 23736000, 23591300, 18495600, 18925800, 16417600, 16085200, 16085200, 16085200, 16085200, 18221600, 18221600, 18221600, 16320900, 63708600, 63708600, 63708600, 42994200, 42994200, 17084600, 57629800, 57629800, 33619300, 21566600, 21581600, 18049700, 17880000, 21760900, 39598200, 76373900, 76373900, 48728200, 34445700, 28587700, 41137700, 41137700, 45381600, 23265400, 24416100, 35588600, 35588600, 35588600, 43452400, 31936600, 30530100, 81166700, 47852500, 39778300, 62157200, 46734500, 30172700, 31985400, 61083500, 61083500, 61083500, 39754000, 23489000, 45450100, 73857200, 47954700, 47954700, 107402400, 107402400, 107402400, 107402400, 29342400, 34929100, 62812200, 62812200, 47181800, 31478000, 8660300, 11051400, 12778900, 12778900, 13190300, 18122400, 18122400, 18122400, 18122400, 10454800, 7306300, 7306300, 14261500, 9808700, 12991400, 12283900, 19135000, 15633400, 33417900, 33417900, 33417900, 33417900, 33417900, 33417900, 11912300, 8264200, 14976400, 11519900, 13850500, 13850500, 16844200, 15997300, 25327800, 25327800, 25327800, 25327800, 25327800, 25327800, 12167000, 10804600, 11121100, 15579100, 15579100, 23774400, 23121200, 35701600, 35701600, 35701600, 58905400, 58905400, 58905400, 58905400, 12748800, 19130100, 14765700, 12316900, 25309400, 25309400, 25309400, 20895400, 20895400, 20895400, 20895400, 21458000, 17483900, 12716900, 17677900, 11138500, 19834100, 19834100, 12673100, 21330600, 21330600, 21330600, 21330600, 21330600, 21330600, 10097500, 8214300, 8243300, 9336000, 20774700, 20774700, 18523900, 18523900, 18523900, 18523900, 18523900, 7429000, 11913400, 11627000, 15321200, 10881700, 14137300, 14137300, 14137300, 14137300, 13467300, 13467300, 17202300, 17202300, 17202300, 22853100, 15964500, 14570100, 9106500, 19160900, 19720700, 12506400, 12506400, 11994200, 11994200, 11994200, 11994200, 11994200, 15195200, 13608900, 13608900, 13608900, 7430300, 12857900, 13208200, 18745100, 18745100, 18745100, 18745100, 18745100, 18745100, 10838300, 12387400, 17187300, 12856800, 28847300, 27240300, 27240300, 27240300, 28125800, 28125800, 16886200, 16886200, 16886200, 16886200, 37461100, 37461100, 37461100, 37206900, 37206900, 40360300, 14418300, 12850000, 12850000, 16729600, 16729600, 16729600, 24853800, 17254400, 16854300, 35920200, 19254900, 19254900, 16199300, 13522200, 13522200, 15528600, 15528600, 13653800, 15975600, 17408800, 26887200, 26887200, 19673100, 20496300, 32184200, 32184200, 13371100, 15197500, 16114700, 16114700, 16114700, 16114700, 16114700, 4024400, 4720200, 19753500, 19753500, 19753500, 19753500, 3981400, 4190700, 9281500, 12687500, 12687500, 22721500, 22721500, 22721500, 4452200, 5801500, 8874700, 8874700, 8874700, 7984600, 7984600, 7984600, 10837300, 3262700, 6114000, 7344500, 10061000, 10061000, 10061000, 3309700, 4419900, 4419900, 3119400, 7492700, 24973400, 24973400, 3626200, 5197600, 4547800, 10167500, 26304800, 26304800, 26304800, 10770300, 10770300, 3985900, 7352900, 13886800, 34109800, 34109800, 8339800, 7084300, 7001400, 13081200, 13081200, 10580200, 26364300, 26364300, 26364300, 10284700, 18988900, 18988900, 18988900, 3846400, 4994700, 21443900, 21443900, 21443900, 7711500, 9268200, 9268200, 7626900, 9521500, 17592100, 17592100, 17592100, 9071900, 3827400, 7807000, 7807000, 19108700, 19108700, 6643100, 7037500, 13724600, 13724600, 13724600, 12532500, 12532500, 17607500, 9541400, 9541400, 3810200, 11734100, 11734100, 11734100, 16012500, 16012500, 16012500, 7552300, 17662100, 17662100, 17662100, 7943700, 10265400, 10265400, 10265400, 10265400, 3518800, 4811900, 2333200, 4278600, 4278600, 5029300, 5029300, 5029300, 5029300, 2860500, 3658200, 2991400, 4059600, 6162300, 6162300, 6162300, 2040800, 10440100, 9489900, 9489900, 9489900, 4617100, 3279500, 3708300, 7866400, 12918300, 12918300, 12918300, 2138000, 4234100, 7409800, 7409800, 7409800, 6560100, 12954700, 12954700, 12954700, 2452800, 14293800, 7004200, 7004200, 9613000, 9613000, 3228700, 2019300, 3716200, 7855200, 7855200, 3874500, 4679000, 9511400, 9511400, 9511400, 7132200, 10893800, 10893800, 10893800, 6738100, 6738100, 5471600, 3670700, 3236600, 3495200, 7022600, 7022600, 3021800, 3603300, 6173500, 10108000, 10108000, 9939200, 14563700, 14563700, 3742000, 4436200, 9311300, 9311300, 4239300, 5212400, 10793700, 8326100, 15141500, 8387800, 8387800, 8387800, 11677300, 25286600, 7979600, 10492700, 10380700, 10380700, 4594600, 7543100, 7543100, 7637000, 7637000, 8426300, 8426300, 6336500, 19254300, 4642400, 7838900, 8460300, 8203000, 8203000, 19146900, 7753300, 7536400, 11496000, 16732700, 17786700, 16575800, 35280100, 37029300, 37029300, 37029300, 37029300, 37029300, 37029300, 29844600, 29844600, 32273500, 32273500, 21460600, 19749900, 17139300, 25773900, 48992400, 48992400, 48992400, 48992400, 48992400, 30808700, 30808700, 30808700, 22726100, 16651500, 22327900, 19953100, 22654200, 33327400, 33327400, 17084700, 26646800, 23128400, 15396500, 27350200, 38033900, 38033900, 38033900, 38033900, 38033900, 31257000, 31257000, 27991000, 19300900, 22860700, 18334800, 55636400, 55636400, 55636400, 55636400, 49471900, 49471900, 49471900, 31225600, 25874300, 30067600, 68198200, 40801500, 61646800, 61646800, 61646800, 61646800, 61646800, 63897800, 26545600, 32068100, 63904300, 19091300, 21728400, 20736500, 23477600, 19662300, 19662300, 40171600, 56004000, 56004000, 56004000, 56004000, 40171600, 40171600, 21786900, 18212000, 18325200, 28232200, 22165100, 23514400, 27281600, 27281600, 27281600, 27281600, 28655600, 19454100, 23484600, 31142500, 41523600, 48272800, 48272800, 48272800, 48272800, 48272800, 42529000, 23552500, 23552500, 31533900, 52501100, 56396800, 56396800, 55628700, 47867800, 47227900, 47227900, 47227900, 47227900, 48756300, 48756300, 26383200, 26383200, 23601600, 23184500, 31756700, 31756700, 71066700, 71066700, 32120700, 32120700, 32120700, 32120700, 20410800, 15092800, 24149200, 24149200, 24149200, 16093300, 16093300, 14394900, 17471200, 17471200, 17471200, 19181400, 18705700, 22018700, 46717100, 46717100, 46717100, 46717100, 46717100, 42361000, 20269800, 20269800, 25215100, 23798300, 49187400, 24588300, 28789400, 28789400, 28789400, 17977800, 39548800, 39548800, 39548800, 34971000, 34971000, 34971000, 26190800, 22299500, 12997400, 22644400, 43554600, 44818000, 44818000, 44818000, 44818000, 43554600, 43554600, 23672700, 19670100, 22176600, 35718900, 21220800, 24533000, 29911600, 49455600, 80032200, 80032200, 80032200, 49455600, 49455600, 49455600, 22878400, 22878400, 27402500, 16726400, 21688700, 33707300, 17384000, 26847000, 26847000, 30130200, 18162300, 89893300, 89893300, 89893300, 89893300, 89893300, 53336500, 53336500, 53336500, 31433900, 25356800, 22269200, 19585200, 50216300, 42577100, 83217800, 83217800, 83217800, 24040200, 24040200, 34757900, 23842400, 24907500, 24907500, 43134800, 38909100, 126834100, 126834100, 126834100, 126834100, 38909100, 38909100, 23786000, 24944300, 18928800, 26360500, 23008300, 28223900, 83611700, 83611700, 83611700, 83611700, 62513800, 36775200, 36775200, 37555800, 64725500, 64725500, 64725500, 60730800, 130933700, 130933700, 130933700, 130933700, 46309500, 46309500, 46309500, 25064300, 169164000, 169164000, 169164000, 169164000, 42525500, 35898000, 14192900, 15240000, 75941400, 75941400, 75941400, 23195000, 23111300, 21301600, 28254700, 100271600, 100271600, 100271600, 38858200, 19706000, 32186700, 13452800, 37038400, 84985400, 84985400, 84985400, 30356500, 34612000, 106669600, 106669600, 106669600, 42293700, 33560800, 48197000, 32547500, 97053400, 97053400, 75144100, 36507400, 28975100, 34852800, 51136400, 38934200, 70419900, 70419900, 57497600, 36975600, 101882200, 111262700, 111262700, 70858100, 70858100, 33376300, 36489100, 118369500, 118369500, 74274700, 36215900, 66972800, 45796800, 84338200, 84338200, 51048300, 58721700, 26975000, 33840800, 53023600, 48214100, 22501000, 84593900, 84593900, 55112600, 21559800, 28866600, 23151900, 28221600, 26387400, 73308000, 73308000, 53948400, 34750700, 25793300, 34690000, 24626900, 24626900, 107481800, 107481800, 47118300, 28397500, 25527800, 45941900, 16013300, 28215800, 25054400, 25054400, 45499700, 30508100, 85870000, 85870000, 32034500, 23555900, 26031700, 37924400, 67739500, 67739500, 54502800, 21363100, 31389600, 39212100, 23620900, 26686900, 14451300, 16734700, 35747800, 68847100, 68847100, 68847100, 48486100, 36879800, 21881700, 25869800, 25869800, 28326000, 29838400, 26108900, 48134200, 35166700, 27494100, 23857000, 59121400, 59121400, 27101100, 22217300, 29024400, 26455800, 35155800, 14697600, 49688200, 37460500, 37460500, 21319400, 43819700, 33001000, 15468600, 37248200, 25232400, 103878600, 103878600, 34683900, 149010300, 38347800, 38347800, 26231200, 21570800, 25793500, 20206400, 14966600, 17530500, 19518800, 19770700, 41390500, 41390500, 39424700, 26142900, 24544800, 24932400, 29749000, 19877400, 19877400, 23793200, 23793200, 43831000, 43831000, 19785900, 52552300, 40092000, 4096900, 4062400, 38258900, 38258900, 38258900, 38258900, 5513200, 6276400, 6525600, 7328300, 23832800, 31287100, 31287100, 31287100, 13639500, 5863200, 5873600, 18054100, 18054100, 18054100, 18054100, 18740200, 5158700, 26621000, 26621000, 26621000, 26621000, 21181200, 21181200, 10499600, 10499600, 19500400, 21397600, 18461000, 32610900, 32610900, 32610900, 32610900, 20156400, 14870800, 5798600, 58410400, 58410400, 58410400, 58410400, 22960000, 12743300, 9713900, 8448900, 33866500, 33866500, 33866500, 20307900, 20307900, 10660500, 10660500, 27705300, 27705300, 27705300, 27705300, 27705300, 17703300, 8225300, 8225300, 7659500, 5783700, 23900100, 23900100, 23900100, 22105400, 12081300, 6450200, 15348400, 15348400, 9670500, 6104000, 41587400, 41587400, 41587400, 17496700, 6700100, 4898600, 5589900, 19671000, 19671000, 19671000, 16364700, 5807400, 5987200, 23203400, 23203400, 23203400, 16168600, 16168600, 5388900, 5615100, 7868000, 6746800, 19718700, 42168200, 42168200, 26589500, 26589500, 26589500, 7426500, 9680100, 6179500, 55681200, 55681200, 28669700, 9041900, 9885000, 16301200, 7992400, 55728800, 55728800, 55728800, 32816400, 10774900, 10940400, 25929300, 53009400, 53009400, 53009400, 53009400, 35722800, 33636700, 33045700, 33045700, 17664600, 48484300, 48484300, 48484300, 33231500, 63461000, 63461000, 63461000, 63461000, 8962800, 104500900, 104500900, 104500900, 104500900, 13455400, 18428200, 15418900, 66902500, 66902500, 66902500, 40551000, 19884900, 5493100, 5923600, 3247300, 9044400, 11933600, 5794100, 8464900, 25330700, 25330700, 25330700, 25330700, 6991100, 6991100, 6454200, 6362900, 6219700, 12443800, 12443800, 9289800, 6163800, 21659800, 21659800, 21659800, 6642200, 5037800, 28487900, 28487900, 28487900, 14488500, 7794500, 7794500, 10211800, 7858300, 7622200, 16357100, 16357100, 16357100, 8053100, 31314100, 31314100, 5688100, 9093300, 17343800, 17343800, 8838400, 20414200, 20414200, 14352300, 22185100, 22185100, 14767600, 12242600, 13020900, 36202500, 36202500, 14707200, 8166400, 12539900, 6416600, 14289300, 4451100, 46553000, 46553000, 46553000, 7873100, 10676500, 25725500, 37413400, 37413400, 37413400, 37413400, 37413400, 37413400, 15269800, 7235900, 7604800, 23236400, 23236400, 23236400, 15984100, 8012800, 33213000, 33213000, 33213000, 17945200, 8041700, 36084800, 36084800, 36084800, 36084800, 7019600, 8278200, 28409300, 26987000, 26987000, 18212900, 13635400, 13635400, 9926800, 9220600, 57319400, 57319400, 57319400, 7400800, 8557600, 10764800, 10764800, 6509000, 36968200, 36968200, 36968200, 6948200, 20287600, 20287600, 20287600, 6178000, 5455200, 29779800, 13536000, 2292500, 8829700, 8829700, 8829700, 8829700, 8829700, 3638900, 5005100, 5022000, 5022000, 4019700, 6136000, 8233200, 8233200, 8233200, 8233200, 3544800, 4750900, 6331200, 7318200, 7318200, 7318200, 7318200, 3864400, 6038900, 6359200, 6359200, 6359200, 8889500, 8889500, 8889500, 5010500, 4301500, 5939000, 6181200, 6107500, 6702200, 6702200, 6702200, 6702200, 3676000, 3676000, 6704800, 6704800, 9241300, 4417100, 5521400, 16107200, 16107200, 16107200, 16107200, 4297400, 5544700, 4765900, 5978800, 5978800, 5978800, 5978800, 4501900, 7702700, 5274700, 5274700, 5274700, 5274700, 5274700, 5274700, 5301700, 5670400, 9092400, 9092400, 9092400, 9092400, 9092400, 9092400, 8306400, 5122300, 3776500, 3885200, 6368500, 6368500, 6368500, 6368500, 6368500, 6368500, 3972500, 4007000, 4872000, 4096200, 5343900, 5343900, 5343900, 5343900, 5343900, 5343900, 5343900, 3885300, 2973000, 5587700, 5244500, 3815300, 3815300, 3815300, 5559900, 5559900, 5559900, 7617200, 7617200, 7617200, 2475500, 4398400, 7173300, 7249100, 7249100, 7249100, 7249100, 7249100, 4440400, 6052800, 9912800, 9912800, 9912800, 9912800, 9912800, 9912800, 5365200, 5365200, 4115700, 6381900, 4243200, 7811500, 4996200, 7736900, 7736900, 7736900, 7736900, 4553500, 3777200, 6154500, 4673600, 4531300, 3729100, 3729100, 3729100, 5110600, 5110600, 5898500, 5898500, 4505500, 4729500, 5161500, 5015800, 6528200, 7094300, 7094300, 7094300, 7094300, 5700200, 5700200, 5700200, 5632200, 4897200, 7233600, 9932300, 9932300, 9932300, 9932300, 9932300, 6055100, 6055100, 4952400, 2728700, 3157400, 5348500, 5381700, 7827700, 7827700, 7827700, 7827700, 5293600, 3699000, 7692100, 3075700, 3945500, 4186300, 9062300, 9736400, 9736400, 9736400, 6797400, 5090400, 7029500, 4424000, 14008800, 14008800, 14008800, 14008800, 8731300, 8731300, 6653400, 9858200, 12937000, 11184500, 20846500, 20846500, 20846500, 20846500, 20846500, 5388100, 6191400, 9313700, 6226400, 7326600, 12550500, 12550500, 12550500, 12550500, 6607800, 6607800, 11311600, 21885800, 21885800, 29719800, 29719800, 14390100, 16834000, 16834000, 16834000, 16834000, 10903100, 27308900, 45573000, 45573000, 45573000, 18772400, 9623900, 10892800, 15770300, 15770300, 15770300, 11114800, 15578600, 62091100, 62091100, 62091100, 9965500, 7484100, 5379300, 5379300, 7786000, 10630600, 11975200, 11975200, 11975200, 11975200, 7793600, 51851700, 51851700, 51851700, 16225600, 8361900, 22595000, 7930300, 28773800, 28773800, 28773800, 16879000, 5569100, 14547600, 53454800, 53454800, 53454800, 53454800, 23286700, 6303500, 25046100, 25046100, 25046100, 15285300, 5449300, 28884900, 28884900, 28884900, 12382400, 7117600, 11837800, 7972500, 7972500, 7972500, 9094800, 7701200, 22284900, 22284900, 8119600, 38107200, 38107200, 38107200, 23913000, 27556800, 13170600, 13170600, 13170600, 13170600, 13170600, 13170600, 13170600, 13170600, 13170600, 13170600, 13170600, 13170600, 13170600, 13170600, 13170600, 13170600, 13170600, 13170600, 13170600, 13170600, 13170600, 13170600, 13170600, 13170600, 13170600, 13170600, 13170600, 13170600, 13170600, 13170600, 13170600, 13170600, 13170600, 19877100, 16550100, 13585600, 35232700, 34018800, 34018800, 26710000, 62238100, 62238100, 62238100, 62238100, 24560100, 27002400, 42667000, 48019600, 48019600, 117866000, 20541000, 23197300, 40633800, 39019200, 39019200, 48284700, 48284700, 48284700, 48284700, 49412600, 24523100, 24665500, 37525200, 35191800, 44021300, 44021300, 72249300, 72249300, 72249300, 19463700, 53361600, 29664800, 52177000, 52177000, 92953500, 92953500, 92953500, 92953500, 49563300, 43730900, 80467300, 80467300, 34470900, 34470900, 30836300, 27346500, 27346500, 76905400, 118852900, 118852900, 118852900, 118852900, 24775800, 26353800, 26269000, 25646100, 22779400, 30087300, 47549900, 96511700, 96511700, 50969800, 50969800, 36644300, 44450000, 44450000, 46427000, 51425400, 87343700, 195082700, 54209900, 132230400, 25291200, 29281700, 35634500, 59963800, 59963800, 59963800, 46808600, 31437100, 36967200, 96377200, 52235800, 81976400, 72431800, 72431800, 29447000, 16542900, 34352300, 38377800, 23799500, 18215000, 28137300, 26656500, 40486400, 40486400, 100586200, 100586200, 100586200, 16038500, 13885000, 19130900, 22935900, 30724300, 30724300, 30724300, 21640500, 23237300, 19480500, 16490800, 17375700, 41417700, 41417700, 41417700, 27101200, 20577400, 50263000, 50263000, 41677100, 26438800, 25851600, 19263300, 46231400, 46231400, 33298700, 34815500, 33785200, 27104200, 18504700, 22759600, 35521100, 35521100, 61974500, 32734200, 50523600, 87250900, 37054300, 37054300, 18452300, 31390100, 47585200, 69970900, 25869100, 39115900, 34748800, 91372900, 91372900, 29775500, 29775500, 29021600, 29021600, 37289500, 45847700, 45847700, 30806100, 30806100, 28533500, 28533500, 20257900, 12362100, 12362100, 12362100, 10609200, 7637300, 7637300, 7637300, 15201200, 11487100, 11487100, 20910600, 7741500, 13627400, 13935500, 15749500, 15749500, 15749500, 13674400, 13674400, 14259900, 14259900, 14259900, 22028900, 22028900, 13911400, 13911400, 13911400, 19102700, 7948000, 14027800, 14027800, 18539800, 14544700, 16738200, 16738200, 13526900, 13526900, 15348400, 22159100, 14677800, 14677800, 13818000, 15726500, 8231800, 9447000, 9447000, 9447000, 11986800, 12140500, 15648700, 21333500, 21333500, 11160800, 17699200, 17699200, 15695500, 12436300, 12436300, 17328400, 13753300, 11941800, 11204900, 12930100, 12930100, 11914500, 16022400, 10443100, 10443100, 23076300, 15404500, 15404500, 12358700, 11244900, 11244900, 11181500, 9320900, 13585600, 13585600, 11897000, 26889300, 13785900, 12362100, 7754000, 14621000, 11143800, 15036400, 15036400, 15036400, 9962200, 17458800, 18677000, 18677000, 18677000, 9388200, 13227100, 13227100, 13227100, 23488700, 23488700, 12168100, 14168300, 12534300, 12272700, 11227600, 27260000, 27260000, 33789200, 33789200, 21424600, 20968400, 18892200, 16603400, 27800800, 19471000, 19471000, 12733800, 22103700, 29328700, 29328700, 29328700, 29328700, 12482900, 13130800, 15301200, 14605400, 16725000, 15702800, 23265200, 23265200, 23265200, 25070000, 15399300, 9967100, 18539800, 8588800, 22872800, 15727500, 19893200, 19893200, 20920400, 20920400, 20920400, 20920400, 23234700, 21080400, 21080400, 33000500, 33000500, 33000500, 33000500, 29442600, 31034500, 16259600, 29173900, 29173900, 29173900, 29173900, 29173900, 20646400, 16591100, 10005100, 10005100, 19233400, 25296500, 25296500, 44702500, 44702500, 44702500, 12435800, 12435800, 12435800, 14349000, 14349000, 31278300, 31278300, 30398200, 30398200, 30398200, 18837300, 11623000, 13270900, 18305300, 18305300, 37877100, 30398600, 43484700, 43484700, 43484700, 12930900, 13963600, 19920400, 12211500, 15049200, 24785000, 27098200, 27098200, 27098200, 10724600, 14578500, 17074600, 17074600, 18753900, 10848700, 12434700, 15761500, 11893000, 15210900, 9500700, 9561300, 12439500, 32172200, 32172200, 32172200, 32172200, 32172200, 14975900, 23076300, 11244900, 23075700, 31354100, 31354100, 31354100, 31354100, 20364300, 9320900, 11900900, 17081800, 19747400, 19747400, 19747400, 15620900, 16150900, 21026600, 31961600, 31961600, 31961600, 11011400, 11094100, 20448900, 20448900, 13683200, 33469100, 33469100, 33469100, 11055800, 47425400, 47425400, 47425400, 24317800, 24317800, 38451100, 13072800, 22950100, 10137700, 22504200, 22504200, 22504200, 22504200, 4646000, 4646000, 4573300, 6127900, 4341500, 4627000, 6090300, 6090300, 5942700, 19812900, 19812900, 19812900, 19812900, 5305000, 4715700, 5485000, 6325700, 8063700, 6809400, 12371300, 17122000, 17122000, 17122000, 6353700, 8742700, 5111900, 5482300, 20697300, 20697300, 20697300, 20697300, 7200800, 7268600, 8345800, 5614500, 14235200, 16082600, 16082600, 16082600, 8450400, 8950700, 9539400, 9539400, 9539400, 11241700, 11241700, 5762600, 6327400, 6327400, 10531300, 12679300, 16463300, 42631300, 42631300, 42631300, 10922000, 11468700, 12043100, 29720700, 29720700, 29720700, 32265200, 32265200, 8685900, 5782500, 19128900, 9199800, 11040600, 19043400, 14699300, 49503700, 52088500, 52088500, 52088500, 7494900, 6951200, 6537700, 6537700, 6537700, 7810600, 38122400, 38122400, 38122400, 8433400, 18561000, 18561000, 25124000, 25124000, 25124000, 13493000, 6246700, 17293700, 17293700, 17293700, 17293700, 5726500, 9011400, 56233000, 10145700, 10145700, 7996500, 19166800, 19166800, 19166800, 6512200, 10768000, 15242700, 22412900, 22412900, 9320900, 7951400, 23440300, 23440300, 23440300, 12653800, 20110300, 20110300, 5857700, 5857700, 6920700, 10864000, 15346400, 26858300, 6577200, 6577200, 5282000, 9040100, 8457500, 6674800, 7142500, 9018000, 9018000, 6508700, 16746600, 35076700, 15562300, 27894600, 14877700, 24679300, 46253500, 80898100, 8858400, 16333400, 21315000, 21315000, 7604400, 10635100, 10541900, 22458600, 22458600, 22458600, 5795700, 8306700, 13840400, 18646800, 18646800, 5853100, 14108700, 9765800, 9768900, 8972000, 17132800, 21376700, 10197400, 11453800, 18053500, 18053500, 10059100, 11320000, 10990600, 15483800, 19876700, 13473500, 15815000, 14159300, 19350400, 17758200, 13242400, 11282800, 18220800, 18220800, 9196300, 14554400, 16346800, 16346800, 11729800, 15821900, 15418500, 19299800, 15630300, 15696700, 30452700, 17971000, 29822100, 9363500, 7811100, 14866200, 14866200, 14866200, 14324300, 13400400, 12820200, 22800800, 22800800, 9393200, 8664100, 8664100, 12385300, 12072200, 12072200, 14170300, 14170300, 17482100, 15111800, 15111800, 19128100, 19128100, 19128100, 19128100, 9578500, 11831700, 11831700, 13237300, 16663800, 16663800, 16663800, 19072200, 6866900, 22908400, 22908400, 23928100, 23928100, 9865900, 14073700, 10720500, 10273700, 10273700, 17885900, 13216200, 13216200, 13216200, 14094400, 25873700, 25873700, 21404200, 16754200, 21266500, 18758600, 15603000, 15767700, 26232700, 12257100, 12257100, 13467600, 13090600, 21900900, 20306300, 20306300]\n"
     ]
    }
   ],
   "source": [
    "#combine our data with yahoo finance to get initial stock prices on a certain day\n",
    "\n",
    "\n",
    "init_prices = []\n",
    "temp_l =[]\n",
    "bank_data = pd.DataFrame()\n",
    "steck_data = pd.DataFrame()\n",
    "senti_data = pd.DataFrame()\n",
    "price_target_data = pd.DataFrame()\n",
    "position_data = pd.DataFrame()\n",
    "text_data = pd.DataFrame()\n",
    "\n",
    "volume = []\n",
    "metric_list = []\n",
    "for ticker in ticker_list:\n",
    "    #init and clean\n",
    "    stock_data = pd.read_csv('/Users/Ethan Ohman/Desktop/Equity Research/{0}/{0}_price_data.csv'.format(ticker))\n",
    "    stock_data = stock_data[(stock_data['Date'] != '')]\n",
    "    stock_data['Date'] = stock_data['Date'].apply(convert_date)\n",
    "    stock_data = stock_data.iloc[::-1]\n",
    "    #bound valid data (only deal with a range we know posses proper values)\n",
    "    min_date = stock_data['Date'].min()\n",
    "    dummy_frame = data[(data['Stock'] == ticker)&(data['Date'] >= min_date)]\n",
    "    banks = bank_df[(bank_df['Stock'] == ticker)&(bank_df['Date'] >= min_date)]\n",
    "    stocks = stock_df[(stock_df['Stock'] == ticker)&(stock_df['Date'] >= min_date)]\n",
    "    sentiment = sentiment_df[(sentiment_df['Stock'] == ticker)&(sentiment_df['Date'] >= min_date)]\n",
    "    price_targets = dummy_frame['Price Target']\n",
    "    position = dummy_frame['Position']\n",
    "    text = dummy_frame['Text']\n",
    "    bank_data = bank_data.append(banks, sort=False)\n",
    "    steck_data= steck_data.append(stocks, sort=False)\n",
    "    senti_data= senti_data.append(sentiment, sort=False)\n",
    "    price_target_data = price_target_data.append(price_targets, sort=False)\n",
    "    position_data = position_data.append(position, sort=False)\n",
    "    text_data = text_data.append(text,sort=False)\n",
    "    stock_data_ind = 0\n",
    "    pt_indexer = 0 \n",
    "    for date in dummy_frame['Date']:\n",
    "        while date < stock_data.iloc[stock_data_ind]['Date']:\n",
    "            stock_data_ind += 1\n",
    "        if(date == stock_data.iloc[stock_data_ind]['Date']):\n",
    "            price_target = float(dummy_frame.iloc[pt_indexer]['Price Target'])\n",
    "            metric = get_metric(date,price_target,stock_data,dummy_frame,stock_data_ind,5)\n",
    "            metric_list.append(metric)\n",
    "            volume.append(stock_data.iloc[stock_data_ind]['Volume'])\n",
    "            temp_l.append(stock_data.iloc[stock_data_ind]['Open'])\n",
    "            pt_indexer += 1\n",
    "        else:\n",
    "            price_target = float(dummy_frame.iloc[pt_indexer]['Price Target'])\n",
    "            metric = get_metric(date,price_target,stock_data,dummy_frame,stock_data_ind,5)\n",
    "            metric_list.append(metric)\n",
    "            volume.append(stock_data.iloc[stock_data_ind+1]['Volume'])\n",
    "            temp_l.append(stock_data.iloc[stock_data_ind+1]['Open'])\n",
    "            pt_indexer += 1\n",
    "    init_prices += temp_l[::-1]\n",
    "    temp_l.clear()\n",
    "print(volume)\n",
    "## VOLUME DF IS CREATED\n",
    "\n",
    "#     stock_data_ind = 0\n",
    "#     for date in dummy_frame['Date']:\n",
    "#         while (date+7) > stock_data.iloc[stock_data_ind]['Date']:\n",
    "#             stock_data_ind += 1\n",
    "#         if((date+7) == stock_data.iloc[stock_data_ind]['Date']):\n",
    "#             week_after\n"
   ]
  },
  {
   "cell_type": "code",
   "execution_count": 113,
   "metadata": {},
   "outputs": [],
   "source": [
    "p_d = pd.DataFrame()\n",
    "pr_d = pd.DataFrame()\n",
    "t_d = pd.DataFrame()\n",
    "positions = []\n",
    "text =[]\n",
    "price = []\n",
    "for entry in position_data.iloc[0]:\n",
    "    positions.append(entry)\n",
    "p_d['Position'] = positions\n",
    "for entry in price_target_data.iloc[0]:\n",
    "    price.append(entry)\n",
    "pr_d['Price Target'] = price\n",
    "for entry in text_data.iloc[0]:\n",
    "    text.append(entry)\n",
    "t_d['Text'] = text\n"
   ]
  },
  {
   "cell_type": "code",
   "execution_count": 461,
   "metadata": {},
   "outputs": [
    {
     "data": {
      "text/plain": [
       "(3920, 27)"
      ]
     },
     "execution_count": 461,
     "metadata": {},
     "output_type": "execute_result"
    }
   ],
   "source": [
    "steck_data.shape"
   ]
  },
  {
   "cell_type": "code",
   "execution_count": 462,
   "metadata": {},
   "outputs": [],
   "source": [
    "bank_data.drop(['Date','Stock'], axis=1,inplace = True)\n",
    "steck_data.drop(['Date','Stock'], axis=1,inplace = True)\n",
    "senti_data.drop(['Stock'], axis=1,inplace = True) # SENTI HAS DATE"
   ]
  },
  {
   "cell_type": "code",
   "execution_count": 467,
   "metadata": {},
   "outputs": [],
   "source": [
    "index_list = []\n",
    "for num in range(3920):\n",
    "    index_list.append(num)"
   ]
  },
  {
   "cell_type": "code",
   "execution_count": 469,
   "metadata": {},
   "outputs": [
    {
     "data": {
      "text/plain": [
       "Int64Index([   0,    1,    2,    3,    4,    5,    6,    7,    8,    9,\n",
       "            ...\n",
       "            3910, 3911, 3912, 3913, 3914, 3915, 3916, 3917, 3918, 3919],\n",
       "           dtype='int64', length=3920)"
      ]
     },
     "execution_count": 469,
     "metadata": {},
     "output_type": "execute_result"
    }
   ],
   "source": [
    "bank_data.shape\n",
    "bank_data.index = index_list\n",
    "bank_data.index"
   ]
  },
  {
   "cell_type": "code",
   "execution_count": 479,
   "metadata": {},
   "outputs": [
    {
     "data": {
      "text/plain": [
       "(3920, 3)"
      ]
     },
     "execution_count": 479,
     "metadata": {},
     "output_type": "execute_result"
    }
   ],
   "source": [
    "\n",
    "senti_data.index = index_list\n",
    "senti_data['negative'] = [0]*len(senti_data['positive'])\n",
    "senti_data.shape"
   ]
  },
  {
   "cell_type": "code",
   "execution_count": 473,
   "metadata": {},
   "outputs": [
    {
     "data": {
      "text/html": [
       "<div>\n",
       "<style scoped>\n",
       "    .dataframe tbody tr th:only-of-type {\n",
       "        vertical-align: middle;\n",
       "    }\n",
       "\n",
       "    .dataframe tbody tr th {\n",
       "        vertical-align: top;\n",
       "    }\n",
       "\n",
       "    .dataframe thead th {\n",
       "        text-align: right;\n",
       "    }\n",
       "</style>\n",
       "<table border=\"1\" class=\"dataframe\">\n",
       "  <thead>\n",
       "    <tr style=\"text-align: right;\">\n",
       "      <th></th>\n",
       "      <th>AAPL</th>\n",
       "      <th>ADBE</th>\n",
       "      <th>AMZN</th>\n",
       "      <th>BA</th>\n",
       "      <th>CMCSA</th>\n",
       "      <th>CSCO</th>\n",
       "      <th>CVX</th>\n",
       "      <th>DIS</th>\n",
       "      <th>FB</th>\n",
       "      <th>GOOGL</th>\n",
       "      <th>...</th>\n",
       "      <th>MU</th>\n",
       "      <th>NFLX</th>\n",
       "      <th>NKE</th>\n",
       "      <th>PEP</th>\n",
       "      <th>SBUX</th>\n",
       "      <th>T</th>\n",
       "      <th>TGT</th>\n",
       "      <th>VZ</th>\n",
       "      <th>WMT</th>\n",
       "      <th>XOM</th>\n",
       "    </tr>\n",
       "  </thead>\n",
       "  <tbody>\n",
       "    <tr>\n",
       "      <th>0</th>\n",
       "      <td>1</td>\n",
       "      <td>0</td>\n",
       "      <td>0</td>\n",
       "      <td>0</td>\n",
       "      <td>0</td>\n",
       "      <td>0</td>\n",
       "      <td>0</td>\n",
       "      <td>0</td>\n",
       "      <td>0</td>\n",
       "      <td>0</td>\n",
       "      <td>...</td>\n",
       "      <td>0</td>\n",
       "      <td>0</td>\n",
       "      <td>0</td>\n",
       "      <td>0</td>\n",
       "      <td>0</td>\n",
       "      <td>0</td>\n",
       "      <td>0</td>\n",
       "      <td>0</td>\n",
       "      <td>0</td>\n",
       "      <td>0</td>\n",
       "    </tr>\n",
       "    <tr>\n",
       "      <th>1</th>\n",
       "      <td>1</td>\n",
       "      <td>0</td>\n",
       "      <td>0</td>\n",
       "      <td>0</td>\n",
       "      <td>0</td>\n",
       "      <td>0</td>\n",
       "      <td>0</td>\n",
       "      <td>0</td>\n",
       "      <td>0</td>\n",
       "      <td>0</td>\n",
       "      <td>...</td>\n",
       "      <td>0</td>\n",
       "      <td>0</td>\n",
       "      <td>0</td>\n",
       "      <td>0</td>\n",
       "      <td>0</td>\n",
       "      <td>0</td>\n",
       "      <td>0</td>\n",
       "      <td>0</td>\n",
       "      <td>0</td>\n",
       "      <td>0</td>\n",
       "    </tr>\n",
       "    <tr>\n",
       "      <th>2</th>\n",
       "      <td>1</td>\n",
       "      <td>0</td>\n",
       "      <td>0</td>\n",
       "      <td>0</td>\n",
       "      <td>0</td>\n",
       "      <td>0</td>\n",
       "      <td>0</td>\n",
       "      <td>0</td>\n",
       "      <td>0</td>\n",
       "      <td>0</td>\n",
       "      <td>...</td>\n",
       "      <td>0</td>\n",
       "      <td>0</td>\n",
       "      <td>0</td>\n",
       "      <td>0</td>\n",
       "      <td>0</td>\n",
       "      <td>0</td>\n",
       "      <td>0</td>\n",
       "      <td>0</td>\n",
       "      <td>0</td>\n",
       "      <td>0</td>\n",
       "    </tr>\n",
       "    <tr>\n",
       "      <th>3</th>\n",
       "      <td>1</td>\n",
       "      <td>0</td>\n",
       "      <td>0</td>\n",
       "      <td>0</td>\n",
       "      <td>0</td>\n",
       "      <td>0</td>\n",
       "      <td>0</td>\n",
       "      <td>0</td>\n",
       "      <td>0</td>\n",
       "      <td>0</td>\n",
       "      <td>...</td>\n",
       "      <td>0</td>\n",
       "      <td>0</td>\n",
       "      <td>0</td>\n",
       "      <td>0</td>\n",
       "      <td>0</td>\n",
       "      <td>0</td>\n",
       "      <td>0</td>\n",
       "      <td>0</td>\n",
       "      <td>0</td>\n",
       "      <td>0</td>\n",
       "    </tr>\n",
       "    <tr>\n",
       "      <th>4</th>\n",
       "      <td>1</td>\n",
       "      <td>0</td>\n",
       "      <td>0</td>\n",
       "      <td>0</td>\n",
       "      <td>0</td>\n",
       "      <td>0</td>\n",
       "      <td>0</td>\n",
       "      <td>0</td>\n",
       "      <td>0</td>\n",
       "      <td>0</td>\n",
       "      <td>...</td>\n",
       "      <td>0</td>\n",
       "      <td>0</td>\n",
       "      <td>0</td>\n",
       "      <td>0</td>\n",
       "      <td>0</td>\n",
       "      <td>0</td>\n",
       "      <td>0</td>\n",
       "      <td>0</td>\n",
       "      <td>0</td>\n",
       "      <td>0</td>\n",
       "    </tr>\n",
       "  </tbody>\n",
       "</table>\n",
       "<p>5 rows × 25 columns</p>\n",
       "</div>"
      ],
      "text/plain": [
       "   AAPL  ADBE  AMZN  BA  CMCSA  CSCO  CVX  DIS  FB  GOOGL  ...  MU  NFLX  NKE  \\\n",
       "0     1     0     0   0      0     0    0    0   0      0  ...   0     0    0   \n",
       "1     1     0     0   0      0     0    0    0   0      0  ...   0     0    0   \n",
       "2     1     0     0   0      0     0    0    0   0      0  ...   0     0    0   \n",
       "3     1     0     0   0      0     0    0    0   0      0  ...   0     0    0   \n",
       "4     1     0     0   0      0     0    0    0   0      0  ...   0     0    0   \n",
       "\n",
       "   PEP  SBUX  T  TGT  VZ  WMT  XOM  \n",
       "0    0     0  0    0   0    0    0  \n",
       "1    0     0  0    0   0    0    0  \n",
       "2    0     0  0    0   0    0    0  \n",
       "3    0     0  0    0   0    0    0  \n",
       "4    0     0  0    0   0    0    0  \n",
       "\n",
       "[5 rows x 25 columns]"
      ]
     },
     "execution_count": 473,
     "metadata": {},
     "output_type": "execute_result"
    }
   ],
   "source": [
    "steck_data.shape\n",
    "steck_data.index = index_list\n",
    "steck_data.head()"
   ]
  },
  {
   "cell_type": "code",
   "execution_count": 376,
   "metadata": {},
   "outputs": [
    {
     "name": "stdout",
     "output_type": "stream",
     "text": [
      "[72.209999, 71.709999, 71.790001, 71.540001, 71.540001, 71.540001, 71.540001, 71.540001, 72.779999, 79.139999, 79.629997, 77.760002, 77.760002, 77.760002, 77.25, 77.25, 78.220001, 75.620003, 74.68, 75.08000200000001, 76.839996, 76.839996, 76.339996, 76.339996, 76.339996, 75.610001, 76.400002, 76.43, 74.400002, 79.57, 79.540001, 80.16999799999999, 79.93, 78.900002, 77.879997, 77.879997, 82.16999799999999, 82.650002, 81.379997, 81.379997, 81.379997, 79.900002, 83.389999, 83.389999, 77.599998, 77.599998, 78.639999, 80.790001, 78.629997, 78.629997, 78.610001, 84.91999799999999, 82.199997, 82.410004, 80.449997, 89.0, 88.440002, 88.440002, 88.440002, 89.589996, 91.709999, 95.699997, 89.400002, 88.91999799999999, 87.690002, 87.269997, 87.269997, 87.269997, 85.550003, 88.910004, 98.0, 97.0, 97.0, 96.209999, 95.720001, 95.720001, 95.620003, 99.910004, 96.5, 91.360001, 98.120003, 97.589996, 97.589996, 102.769997, 98.949997, 108.190002, 109.629997, 108.739998, 108.739998, 106.849998, 104.129997, 107.989998, 113.309998, 113.309998, 112.82, 117.33000200000001, 126.199997, 129.899994, 134.990005, 134.990005, 135.190002, 137.199997, 144.139999, 145.91000400000001, 147.889999, 147.559998, 147.559998, 155.880005, 156.300003, 181.759995, 182.009995, 178.139999, 174.050003, 194.020004, 198.080002, 197.330002, 194.059998, 198.970001, 223.86000099999998, 227.0, 224.30000299999998, 236.32000699999998, 254.0, 246.649994, 257.660004, 245.0, 245.69999700000002, 250.44999700000002, 265.609985, 258.0, 267.130005, 271.140015, 270.0, 252.520004, 261.209991, 250.669998, 250.669998, 238.99000499999997, 238.99000499999997, 245.41000400000001, 246.57000699999998, 246.57000699999998, 246.57000699999998, 240.479996, 244.13999900000002, 233.979996, 250.229996, 248.38999900000002, 237.460007, 251.42999300000002, 225.919998, 220.88000499999998, 220.88000499999998, 220.88000499999998, 232.649994, 235.710007, 244.99000499999997, 241.0, 240.16000400000001, 240.16000400000001, 240.16000400000001, 243.0, 248.559998, 259.399994, 258.130005, 265.5, 259.0, 259.209991, 265.049988, 273.709991, 273.01001, 279.22000099999997, 286.459991, 291.0, 291.0, 269.429993, 275.290009, 270.51001, 272.77999900000003, 283.910004, 276.130005, 278.589996, 274.630005, 280.369995, 293.25, 290.040009, 302.76001, 302.76001, 300.559998, 300.559998, 308.390015, 308.390015, 309.910004, 305.809998, 308.660004, 308.660004, 311.940002, 311.940002, 305.070007, 305.070007, 303.609985, 303.609985, 303.609985, 299.149994, 282.23999, 288.230011, 285.579987, 286.549988, 285.709991, 284.25, 287.829987, 287.829987, 286.519989, 277.579987, 277.660004, 281.0, 276.619995, 276.619995, 279.579987, 277.540009, 271.179993, 273.109985, 278.109985, 268.48999, 264.040009, 264.040009, 271.579987, 271.579987, 271.579987, 273.25, 273.25, 273.25, 278.269989, 278.269989, 278.269989, 278.269989, 280.559998, 289.109985, 296.540009, 293.540009, 298.98999, 75.910004, 78.220001, 78.220001, 75.5, 80.0, 79.57, 78.93, 78.93, 79.5, 79.349998, 80.449997, 80.449997, 78.540001, 78.540001, 82.41999799999999, 82.41999799999999, 82.199997, 82.199997, 82.199997, 92.510002, 92.510002, 85.550003, 98.0, 98.0, 92.620003, 96.5, 95.529999, 95.529999, 95.529999, 98.839996, 106.540001, 106.540001, 106.540001, 106.540001, 106.540001, 108.08000200000001, 108.08000200000001, 104.0, 107.800003, 107.800003, 107.800003, 107.959999, 108.57, 108.57, 120.089996, 122.0, 128.449997, 128.449997, 128.449997, 124.599998, 126.199997, 137.350006, 145.080002, 145.080002, 145.080002, 151.220001, 156.759995, 155.009995, 156.300003, 151.990005, 151.990005, 151.990005, 152.0, 150.330002, 150.330002, 150.330002, 165.5, 165.5, 178.020004, 173.5, 178.259995, 178.259995, 179.360001, 179.360001, 195.699997, 195.699997, 202.28999299999998, 202.28999299999998, 201.820007, 222.97000099999997, 223.0, 227.17999300000002, 227.17999300000002, 227.17999300000002, 227.17999300000002, 223.190002, 229.899994, 213.350006, 228.850006, 228.559998, 230.11000099999998, 239.850006, 239.850006, 241.149994, 254.0, 253.24000499999997, 257.149994, 257.149994, 251.27999900000003, 251.27999900000003, 252.67999300000002, 258.0, 256.950012, 267.130005, 269.0, 269.0, 269.0, 266.47000099999997, 266.47000099999997, 266.149994, 247.74000499999997, 252.5, 252.5, 252.5, 256.190002, 237.460007, 251.42999300000002, 249.99000499999997, 240.75999500000003, 240.75999500000003, 240.75999500000003, 240.75999500000003, 235.330002, 245.61999500000002, 255.979996, 265.5, 265.5, 258.02999900000003, 258.02999900000003, 258.02999900000003, 258.02999900000003, 265.52999900000003, 265.52999900000003, 265.52999900000003, 286.459991, 283.140015, 269.429993, 269.429993, 275.910004, 274.630005, 280.369995, 287.0, 287.0, 287.0, 309.97000099999997, 277.660004, 276.619995, 284.040009, 275.350006, 275.350006, 275.350006, 264.040009, 271.679993, 273.25, 279.140015, 292.109985, 292.109985, 292.109985, 300.0, 306.299988, 304.730011, 346.320007, 346.320007, 346.320007, 346.320007, 366.0, 382.630005, 378.549988, 391.910004, 390.209991, 439.0, 439.0, 439.0, 439.0, 439.0, 427.10998499999994, 432.51000999999997, 428.0, 429.709991, 438.07000700000003, 434.89999400000005, 434.89999400000005, 463.040009, 491.660004, 491.660004, 578.98999, 578.98999, 578.98999, 578.98999, 484.01998899999995, 536.710022, 534.47998, 563.869995, 562.700012, 562.700012, 617.679993, 617.679993, 617.679993, 617.679993, 679.4400019999999, 677.97998, 588.72998, 601.98999, 608.369995, 608.369995, 571.97998, 571.97998, 571.97998, 571.97998, 578.150024, 491.170013, 542.200012, 555.549988, 559.5599980000001, 548.909973, 599.280029, 590.48999, 626.169983, 666.0, 666.0, 666.0, 666.0, 717.380005, 710.130005, 689.5599980000001, 729.8900150000001, 722.799988, 739.330017, 742.710022, 745.97998, 765.0, 765.0, 765.0, 768.460022, 768.460022, 756.0, 838.0, 782.0, 782.0, 782.0, 782.0, 782.0, 761.0, 788.169983, 752.409973, 743.400024, 800.3099980000001, 809.5, 806.799988, 836.590027, 806.719971, 806.719971, 806.719971, 806.719971, 809.3099980000001, 831.619995, 837.0, 841.840027, 910.820007, 907.0399779999999, 952.7999880000001, 944.7999880000001, 996.0, 1293.949951, 1981.699951, 1649.589966, 1656.319946, 1575.98999, 1613.920044, 1674.98999, 1632.0, 1638.880005, 1685.0, 1917.0, 2010.5799559999998, 1969.300049, 1942.0, 1891.119995, 1697.550049, 128.179993, 131.800003, 134.830002, 133.5, 138.429993, 145.830002, 145.830002, 145.830002, 147.21000700000002, 147.899994, 151.669998, 154.600006, 156.0, 159.100006, 159.149994, 159.809998, 163.58999599999999, 163.58999599999999, 167.25, 167.25, 162.990005, 164.669998, 177.16000400000001, 175.96000700000002, 177.25, 179.0, 182.58999599999999, 182.58999599999999, 182.58999599999999, 191.050003, 197.880005, 202.240005, 202.240005, 201.639999, 237.13000499999998, 237.13000499999998, 241.850006, 236.00999500000003, 243.0, 243.0, 243.0, 253.25999500000003, 256.309998, 258.0, 258.0, 263.23999, 259.72000099999997, 259.72000099999997, 262.820007, 266.23999, 295.869995, 298.049988, 308.660004, 310.589996, 317.48999, 360.5, 352.950012, 352.950012, 352.950012, 348.0, 340.450012, 345.320007, 330.109985, 330.589996, 331.600006, 331.980011, 338.119995, 338.119995, 344.01001, 344.01001, 329.5, 339.769989, 371.23999, 342.77999900000003, 341.730011, 347.0, 357.690002, 351.519989, 355.380005, 355.380005, 355.380005, 350.5, 352.26001, 345.769989, 345.769989, 347.549988, 339.01001, 356.359985, 384.369995, 382.959991, 357.850006, 361.589996, 361.589996, 357.299988, 357.299988, 349.549988, 364.309998, 333.25, 316.910004, 316.910004, 316.910004, 316.910004, 316.910004, 316.910004, 316.910004, 316.910004, 316.910004, 316.910004, 316.910004, 316.910004, 316.910004, 316.910004, 316.910004, 316.910004, 316.910004, 316.910004, 316.910004, 316.910004, 316.910004, 316.910004, 316.910004, 316.910004, 316.910004, 316.910004, 316.910004, 316.910004, 316.910004, 316.910004, 316.910004, 316.910004, 316.910004, 316.910004, 316.910004, 325.459991, 334.109985, 342.959991, 342.959991, 387.399994, 387.160004, 387.160004, 387.160004, 408.100006, 408.100006, 407.0, 427.170013, 438.700012, 371.269989, 371.269989, 384.709991, 378.429993, 368.790009, 368.790009, 385.98999, 370.290009, 370.290009, 377.890015, 376.01001, 376.01001, 376.01001, 357.769989, 354.76001, 354.76001, 339.899994, 348.640015, 357.22000099999997, 355.0, 28.424999, 29.200001, 29.200001, 29.200001, 29.475, 29.68, 29.66, 29.594998999999998, 29.549999, 29.940001000000002, 30.025, 30.025, 29.405001000000002, 29.405001000000002, 29.405001000000002, 28.385, 29.504998999999998, 29.955, 31.295, 32.450001, 32.450001, 32.450001, 31.200001, 31.200001, 31.129998999999998, 30.584999, 31.18, 31.18, 31.18, 30.924999, 30.924999, 30.924999, 30.924999, 28.940001000000002, 28.57, 27.41, 28.35, 28.35, 28.35, 29.09, 29.09, 27.43, 29.379998999999998, 29.905001000000002, 31.219998999999998, 31.1, 31.1, 31.1, 31.1, 30.360001, 30.360001, 30.545, 30.264999, 31.67, 30.42, 30.42, 30.42, 34.099998, 34.099998, 34.099998, 34.099998, 33.860001000000004, 33.860001000000004, 33.935001, 33.860001000000004, 33.154999, 33.345001, 33.345001, 32.855, 32.465, 32.465, 32.465, 32.465, 32.465, 32.465, 31.325001, 31.325001, 35.080002, 35.080002, 34.755001, 35.105, 35.365002000000004, 36.560001, 36.560001, 36.560001, 36.560001, 37.744999, 37.744999, 37.924999, 37.645, 37.869999, 37.130001, 37.419998, 37.279999, 37.279999, 37.279999, 37.279999, 39.549999, 39.549999, 39.549999, 39.549999, 39.549999, 39.5, 39.5, 39.5, 39.43, 40.209998999999996, 41.790001000000004, 39.509997999999996, 38.299999, 40.150002, 40.150002, 40.150002, 40.150002, 40.150002, 39.349998, 39.939999, 41.48, 37.889998999999996, 37.939999, 37.380001, 35.889998999999996, 35.889998999999996, 35.889998999999996, 35.889998999999996, 35.93, 35.93, 35.93, 35.889998999999996, 38.810001, 39.490002000000004, 40.529999, 40.529999, 42.700001, 42.700001, 42.700001, 42.700001, 42.700001, 42.700001, 43.119999, 43.119999, 38.0, 33.18, 33.18, 34.310001, 34.310001, 31.549999, 31.030001000000002, 32.849998, 33.349998, 33.349998, 33.68, 34.77, 34.84, 34.84, 34.84, 37.610001000000004, 34.049999, 36.279999, 35.880001, 35.880001, 35.639998999999996, 38.490002000000004, 37.310001, 36.09, 36.09, 36.849998, 35.48, 36.740002000000004, 36.869999, 40.169998, 42.450001, 43.93, 43.93, 43.93, 42.27, 43.549999, 43.52, 42.66, 44.009997999999996, 44.310001, 44.310001, 44.02, 44.32, 47.040001000000004, 45.310001, 47.209998999999996, 47.209998999999996, 47.209998999999996, 47.209998999999996, 45.18, 26.9, 27.370001000000002, 27.65, 28.99, 28.99, 28.99, 29.889999, 29.08, 29.17, 28.99, 29.139999, 29.290001, 29.290001, 29.290001, 29.32, 29.6, 28.469998999999998, 28.469998999999998, 28.469998999999998, 27.42, 27.700001, 28.389999, 28.17, 27.799999, 28.780001000000002, 28.780001000000002, 28.780001000000002, 28.780001000000002, 25.57, 25.639999, 29.0, 28.35, 28.35, 26.290001, 26.290001, 26.290001, 26.290001, 27.1, 26.540001, 23.459999, 23.17, 23.17, 22.629998999999998, 22.629998999999998, 22.6, 23.129998999999998, 24.09, 24.09, 24.09, 26.450001, 27.82, 27.700001, 27.879998999999998, 27.48, 26.190001000000002, 27.09, 26.610001, 27.99, 27.99, 27.99, 29.129998999999998, 29.07, 28.379998999999998, 29.84, 30.780001000000002, 30.950001, 30.969998999999998, 30.969998999999998, 30.41, 30.41, 30.41, 30.85, 30.5, 31.43, 31.27, 31.620001000000002, 29.91, 29.91, 29.91, 30.6, 30.34, 31.040001, 30.690001000000002, 31.67, 31.9, 32.349998, 33.259997999999996, 33.259997999999996, 33.259997999999996, 34.060001, 34.330002, 34.0, 34.200001, 31.1, 31.1, 31.1, 31.549999, 31.870001000000002, 31.870001000000002, 31.73, 32.09, 31.780001000000002, 31.790001, 31.790001, 31.790001, 31.67, 31.23, 32.099998, 32.099998, 31.49, 31.49, 33.310001, 33.880001, 34.02, 34.450001, 33.98, 33.860001000000004, 33.970001, 36.040001000000004, 36.040001000000004, 40.139998999999996, 41.540001000000004, 41.5, 40.52, 41.040001000000004, 45.07, 45.07, 44.299999, 40.389998999999996, 44.5, 44.43, 44.009997999999996, 45.209998999999996, 45.360001000000004, 45.360001000000004, 43.130001, 43.130001, 43.52, 43.619999, 43.34, 42.799999, 41.990002000000004, 41.389998999999996, 41.389998999999996, 42.709998999999996, 43.689999, 43.66, 45.77, 45.77, 45.77, 46.91, 47.84, 47.23, 48.57, 45.150002, 45.720001, 45.700001, 45.459998999999996, 45.459998999999996, 45.459998999999996, 46.799999, 46.799999, 44.549999, 43.330002, 47.119999, 47.27, 47.860001000000004, 47.860001000000004, 48.849998, 48.849998, 50.720001, 55.25, 56.02, 56.0, 51.450001, 51.759997999999996, 51.759997999999996, 54.27, 54.27, 53.849998, 56.369999, 56.689999, 55.84, 52.27, 51.470001, 47.360001000000004, 47.360001000000004, 47.360001000000004, 47.360001000000004, 48.57, 49.98, 49.66, 46.32, 47.5, 48.419998, 48.009997999999996, 48.290001000000004, 48.240002000000004, 48.240002000000004, 45.560001, 45.560001, 45.560001, 45.560001, 101.599998, 104.239998, 103.980003, 103.980003, 103.599998, 103.519997, 106.800003, 110.279999, 109.379997, 101.290001, 91.519997, 87.279999, 75.940002, 89.32, 89.32, 89.32, 89.32, 89.32, 89.32, 89.32, 89.32, 89.32, 89.32, 89.32, 89.32, 89.32, 89.32, 89.32, 89.32, 89.32, 89.32, 89.32, 89.32, 89.32, 89.32, 89.32, 89.32, 89.32, 89.32, 89.32, 89.32, 89.32, 89.32, 89.32, 89.32, 89.32, 89.32, 89.32, 89.32, 91.139999, 89.32, 87.790001, 90.970001, 92.599998, 88.0, 85.150002, 85.150002, 90.379997, 89.699997, 89.699997, 94.440002, 94.370003, 101.139999, 101.83000200000001, 101.83000200000001, 103.550003, 103.5, 100.529999, 102.089996, 101.33000200000001, 101.33000200000001, 99.489998, 101.120003, 103.82, 103.82, 116.129997, 113.16999799999999, 113.16999799999999, 113.16999799999999, 119.809998, 119.809998, 119.5, 119.5, 123.949997, 123.949997, 123.949997, 116.989998, 116.989998, 111.529999, 111.5, 113.849998, 113.849998, 113.849998, 117.230003, 114.550003, 115.75, 120.599998, 122.0, 125.5, 125.5, 125.5, 125.5, 127.019997, 122.790001, 122.790001, 126.760002, 126.760002, 124.93, 118.099998, 114.849998, 114.849998, 116.620003, 116.620003, 118.050003, 117.589996, 115.150002, 112.690002, 116.650002, 113.800003, 117.5, 117.5, 119.809998, 120.389999, 123.16999799999999, 123.839996, 125.25, 121.58000200000001, 122.199997, 117.279999, 121.120003, 118.300003, 125.360001, 121.779999, 121.779999, 119.190002, 119.190002, 118.540001, 116.230003, 115.489998, 115.489998, 117.230003, 117.230003, 117.610001, 117.610001, 119.059998, 95.129997, 95.129997, 95.129997, 95.129997, 95.129997, 95.129997, 95.129997, 95.129997, 95.129997, 95.129997, 95.129997, 95.129997, 95.129997, 95.129997, 95.129997, 95.129997, 95.129997, 95.129997, 95.129997, 95.129997, 95.129997, 95.129997, 95.129997, 95.129997, 95.129997, 95.129997, 95.129997, 95.129997, 95.129997, 95.129997, 95.129997, 95.129997, 95.129997, 95.129997, 95.129997, 95.129997, 95.129997, 95.129997, 95.129997, 95.129997, 95.129997, 95.129997, 95.129997, 95.129997, 95.129997, 95.129997, 95.129997, 95.129997, 95.129997, 95.129997, 95.129997, 95.129997, 95.129997, 95.129997, 95.129997, 95.129997, 95.129997, 95.129997, 95.129997, 95.129997, 95.129997, 95.129997, 95.129997, 95.129997, 95.129997, 95.129997, 95.129997, 95.129997, 95.129997, 95.129997, 95.129997, 95.129997, 95.129997, 95.129997, 95.129997, 95.129997, 95.129997, 95.129997, 95.129997, 95.129997, 95.129997, 95.129997, 95.129997, 95.129997, 95.129997, 95.129997, 95.129997, 95.129997, 95.129997, 95.129997, 95.129997, 95.129997, 95.129997, 95.129997, 95.129997, 95.129997, 95.129997, 95.129997, 95.129997, 95.129997, 95.129997, 95.129997, 95.129997, 95.129997, 95.129997, 95.129997, 95.129997, 95.129997, 95.129997, 95.129997, 95.129997, 95.129997, 95.129997, 95.129997, 95.129997, 95.129997, 95.129997, 95.129997, 95.129997, 95.129997, 95.129997, 95.129997, 95.129997, 95.129997, 95.129997, 95.129997, 95.129997, 95.129997, 95.129997, 77.230003, 76.160004, 76.900002, 76.900002, 76.849998, 76.849998, 76.849998, 75.940002, 79.0, 78.360001, 85.5, 82.720001, 83.379997, 83.16999799999999, 82.470001, 84.099998, 84.099998, 84.099998, 78.940002, 80.82, 90.0, 98.949997, 96.32, 96.32, 94.910004, 94.910004, 94.910004, 94.08000200000001, 92.900002, 96.18, 97.18, 103.190002, 103.190002, 108.800003, 108.800003, 108.800003, 106.0, 105.370003, 101.129997, 93.980003, 94.910004, 97.760002, 97.790001, 107.199997, 107.199997, 107.199997, 107.199997, 110.489998, 109.339996, 112.230003, 110.489998, 107.940002, 119.58000200000001, 119.58000200000001, 119.58000200000001, 119.58000200000001, 122.41999799999999, 127.519997, 127.519997, 123.089996, 123.5, 130.03999299999998, 128.029999, 127.610001, 129.03999299999998, 129.679993, 122.0, 122.0, 122.0, 122.0, 122.0, 114.480003, 118.199997, 118.379997, 118.860001, 123.550003, 124.82, 133.220001, 133.220001, 133.220001, 133.220001, 133.220001, 137.720001, 141.350006, 141.350006, 142.949997, 153.600006, 150.169998, 150.169998, 150.169998, 174.699997, 174.699997, 174.699997, 174.699997, 182.360001, 180.630005, 180.630005, 180.630005, 176.029999, 170.449997, 179.809998, 187.199997, 178.059998, 178.059998, 187.949997, 188.369995, 188.220001, 188.220001, 188.220001, 188.220001, 186.929993, 167.470001, 167.470001, 167.470001, 164.800003, 166.130005, 151.649994, 152.029999, 161.559998, 157.929993, 165.360001, 160.139999, 160.139999, 160.139999, 173.220001, 173.220001, 174.25, 204.929993, 204.929993, 202.220001, 210.580002, 210.580002, 215.72000099999997, 174.889999, 174.889999, 174.889999, 174.889999, 174.889999, 168.330002, 161.46000700000002, 159.21000700000002, 156.729996, 139.940002, 155.0, 155.0, 155.0, 155.0, 155.0, 127.029999, 139.889999, 146.009995, 146.949997, 147.479996, 146.220001, 165.600006, 165.600006, 165.600006, 165.600006, 163.190002, 169.759995, 175.619995, 184.490005, 196.979996, 196.979996, 196.979996, 196.979996, 196.979996, 194.779999, 194.779999, 184.83999599999999, 194.0, 187.0, 190.949997, 189.53999299999998, 189.880005, 197.630005, 197.630005, 197.630005, 206.699997, 206.699997, 206.699997, 186.009995, 185.449997, 183.429993, 186.66000400000001, 181.330002, 189.559998, 196.699997, 196.699997, 196.699997, 196.699997, 501.51000999999997, 508.89001500000006, 512.900024, 519.0, 519.0, 519.0, 545.73999, 568.539978, 577.570007, 549.210022, 546.570007, 580.049988, 580.049988, 580.049988, 553.789978, 553.200012, 548.72998, 548.0, 559.51001, 589.5, 680.0, 680.0, 680.0, 680.0, 667.090027, 699.580017, 699.580017, 699.580017, 656.710022, 648.969971, 625.5, 631.830017, 637.9400019999999, 667.48999, 675.4400019999999, 750.0599980000001, 750.0599980000001, 750.0599980000001, 750.0599980000001, 785.25, 747.799988, 748.960022, 771.26001, 800.5, 800.5, 800.5, 800.5, 744.969971, 763.349976, 756.169983, 758.130005, 765.320007, 743.909973, 743.909973, 743.909973, 743.909973, 743.909973, 718.5, 739.5, 710.549988, 691.369995, 757.679993, 768.840027, 797.710022, 830.090027, 829.9400019999999, 789.52002, 1054.319946, 1212.0, 1048.329956, 1007.2899779999999, 1077.079956, 1058.01001, 1082.51001, 1129.630005, 1190.630005, 1120.150024, 1066.930054, 1228.0, 1230.23999, 1276.0, 36.869999, 36.529999, 36.119999, 36.119999, 34.470001, 33.919998, 31.01, 31.01, 31.01, 31.01, 30.629998999999998, 30.629998999999998, 30.01, 29.5, 31.809998999999998, 31.68, 32.259997999999996, 32.259997999999996, 32.259997999999996, 32.5, 33.200001, 34.369999, 31.51, 29.66, 29.65, 30.469998999999998, 28.65, 28.030001000000002, 27.67, 32.029999, 32.029999, 32.029999, 33.400002, 32.709998999999996, 33.220001, 34.48, 34.48, 32.759997999999996, 32.759997999999996, 31.969998999999998, 29.73, 29.73, 29.35, 32.23, 32.529999, 32.27, 32.200001, 31.43, 31.700001, 31.32, 31.32, 32.639998999999996, 35.299999, 35.299999, 34.330002, 34.330002, 34.330002, 34.77, 35.169998, 35.169998, 35.169998, 34.959998999999996, 34.959998999999996, 34.959998999999996, 34.959998999999996, 34.84, 35.990002000000004, 36.650002, 35.75, 35.740002000000004, 37.720001, 37.720001, 37.689999, 37.689999, 37.970001, 37.970001, 36.07, 36.07, 34.900002, 34.310001, 37.82, 38.0, 38.0, 38.0, 36.5, 35.259997999999996, 35.259997999999996, 35.259997999999996, 35.849998, 35.849998, 35.849998, 35.849998, 35.07, 35.52, 35.52, 35.52, 35.52, 36.869999, 36.869999, 36.099998, 36.099998, 33.25, 33.639998999999996, 34.279999, 34.279999, 34.779999, 34.779999, 35.130001, 35.130001, 40.549999, 43.299999, 43.299999, 43.299999, 43.299999, 45.200001, 45.970001, 46.049999, 45.470001, 45.470001, 45.810001, 45.880001, 48.380001, 48.380001, 48.380001, 51.689999, 49.0, 49.0, 52.259997999999996, 55.439999, 55.439999, 55.439999, 54.380001, 54.380001, 54.380001, 52.450001, 48.759997999999996, 48.759997999999996, 48.759997999999996, 49.599998, 49.860001000000004, 49.860001000000004, 45.619999, 45.59, 45.59, 45.59, 45.59, 46.849998, 46.849998, 46.849998, 46.849998, 46.700001, 47.060001, 52.700001, 54.529999, 55.029999, 55.029999, 52.740002000000004, 52.740002000000004, 52.740002000000004, 52.740002000000004, 47.900002, 47.900002, 47.900002, 47.900002, 43.369999, 50.009997999999996, 52.689999, 52.689999, 52.689999, 52.689999, 52.09, 54.189999, 54.189999, 54.189999, 56.93, 57.490002000000004, 57.490002000000004, 57.490002000000004, 41.209998999999996, 41.380001, 42.91, 42.91, 42.099998, 40.669998, 41.560001, 41.560001, 41.23, 40.48, 41.380001, 40.810001, 40.810001, 40.990002000000004, 40.990002000000004, 42.0, 41.939999, 41.939999, 42.439999, 42.169998, 42.169998, 42.259997999999996, 43.34, 43.34, 43.34, 43.580002, 43.580002, 46.310001, 45.34, 44.259997999999996, 44.259997999999996, 43.900002, 43.900002, 43.900002, 43.0, 43.0, 43.0, 43.0, 41.5, 41.5, 42.02, 42.02, 42.02, 41.02, 41.669998, 42.310001, 42.110001000000004, 43.200001, 42.849998, 42.849998, 42.849998, 42.849998, 42.849998, 42.849998, 43.150002, 43.889998999999996, 44.900002, 44.549999, 44.549999, 44.549999, 45.799999, 46.369999, 46.369999, 46.369999, 46.369999, 46.369999, 46.950001, 46.950001, 46.34, 45.650002, 46.290001000000004, 46.279999, 47.529999, 43.360001000000004, 45.57, 45.57, 45.57, 44.25, 44.25, 44.75, 44.75, 44.75, 44.75, 43.59, 44.380001, 42.700001, 44.029999, 44.900002, 43.98, 43.98, 43.98, 43.98, 43.98, 42.740002000000004, 42.740002000000004, 42.34, 44.130001, 44.060001, 44.990002000000004, 46.0, 46.0, 46.0, 46.0, 46.0, 46.0, 46.360001000000004, 45.0, 45.0, 44.599998, 45.799999, 45.900002, 45.619999, 46.369999, 46.619999, 46.619999, 46.619999, 46.619999, 47.5, 47.5, 47.5, 49.950001, 48.610001000000004, 48.48, 49.610001000000004, 46.700001, 46.700001, 46.700001, 46.700001, 45.900002, 45.900002, 45.900002, 45.0, 45.439999, 45.150002, 45.150002, 46.68, 47.049999, 47.330002, 48.09, 48.09, 48.09, 48.09, 48.09, 48.09, 48.029999, 48.529999, 49.040001000000004, 49.040001000000004, 52.0, 51.07, 52.220001, 52.040001000000004, 53.25, 53.25, 53.25, 53.25, 53.25, 53.25, 54.119999, 53.630001, 54.169998, 54.98, 54.150002, 54.529999, 53.490002000000004, 53.490002000000004, 53.459998999999996, 55.0, 55.0, 55.0, 55.0, 53.689999, 54.450001, 54.450001, 54.57, 52.529999, 74.510002, 68.660004, 68.660004, 68.660004, 72.57, 72.57, 72.57, 72.739998, 74.279999, 74.279999, 71.379997, 66.089996, 66.089996, 77.5, 77.5, 77.5, 78.610001, 79.150002, 77.66999799999999, 77.66999799999999, 76.879997, 76.879997, 77.43, 67.190002, 66.230003, 66.230003, 66.230003, 67.019997, 70.339996, 72.620003, 72.620003, 75.470001, 81.279999, 81.279999, 81.279999, 81.910004, 81.629997, 79.33000200000001, 79.33000200000001, 79.33000200000001, 80.059998, 71.949997, 71.949997, 71.949997, 73.199997, 79.699997, 79.699997, 80.839996, 107.0, 101.379997, 87.400002, 87.400002, 88.360001, 85.019997, 83.160004, 90.050003, 90.050003, 90.699997, 90.699997, 90.699997, 93.849998, 97.989998, 99.0, 100.160004, 104.970001, 104.970001, 106.93, 107.410004, 114.589996, 114.589996, 96.650002, 85.860001, 85.860001, 85.860001, 86.550003, 94.519997, 89.739998, 89.989998, 92.800003, 92.800003, 92.800003, 109.010002, 109.010002, 109.010002, 102.489998, 108.089996, 101.25, 101.25, 101.25, 97.190002, 97.190002, 91.790001, 104.190002, 103.400002, 110.019997, 110.019997, 110.019997, 110.019997, 107.599998, 109.83000200000001, 118.279999, 118.279999, 118.279999, 118.279999, 118.279999, 90.91999799999999, 90.620003, 89.389999, 91.5, 93.300003, 93.300003, 96.809998, 96.910004, 97.360001, 97.0, 97.440002, 96.57, 96.57, 96.389999, 96.389999, 98.190002, 98.190002, 96.0, 98.900002, 98.900002, 96.82, 103.980003, 110.400002, 111.18, 113.66999799999999, 113.66999799999999, 113.66999799999999, 121.849998, 119.599998, 117.0, 125.190002, 127.050003, 128.169998, 128.169998, 127.940002, 122.0, 123.5, 123.5, 121.690002, 113.269997, 113.269997, 114.25, 119.800003, 120.760002, 121.690002, 121.690002, 121.970001, 122.540001, 127.519997, 128.020004, 129.050003, 129.050003, 138.139999, 138.139999, 138.139999, 141.699997, 157.75, 157.75, 157.75, 158.759995, 154.330002, 165.259995, 165.259995, 163.41000400000001, 167.690002, 173.639999, 177.100006, 177.100006, 173.600006, 173.600006, 161.880005, 162.16000400000001, 164.690002, 164.690002, 164.690002, 166.380005, 158.229996, 158.229996, 158.229996, 156.580002, 160.550003, 171.199997, 171.199997, 171.199997, 176.130005, 185.669998, 185.970001, 190.720001, 182.919998, 182.919998, 182.919998, 180.25, 196.490005, 198.850006, 198.850006, 198.850006, 195.869995, 202.300003, 206.899994, 215.580002, 217.94999700000002, 217.94999700000002, 217.94999700000002, 217.94999700000002, 216.0, 216.0, 213.059998, 211.13000499999998, 206.800003, 205.08999599999999, 205.08999599999999, 205.08999599999999, 205.08999599999999, 200.110001, 190.16000400000001, 190.16000400000001, 190.16000400000001, 46.380001, 47.0, 42.950001, 42.950001, 42.950001, 42.950001, 42.669998, 42.889998999999996, 42.889998999999996, 42.889998999999996, 45.66, 45.66, 45.66, 45.66, 47.779999, 48.700001, 48.700001, 48.700001, 51.41, 52.009997999999996, 52.009997999999996, 51.860001000000004, 54.73, 54.73, 54.73, 54.73, 54.209998999999996, 54.93, 54.950001, 55.43, 54.369999, 55.490002000000004, 55.799999, 55.799999, 51.91, 51.91, 51.91, 51.91, 55.799999, 50.619999, 50.48, 50.48, 50.470001, 50.700001, 51.919998, 51.919998, 49.580002, 49.580002, 49.580002, 49.900002, 49.099998, 51.419998, 52.5, 53.560001, 53.700001, 53.709998999999996, 53.709998999999996, 53.709998999999996, 56.150002, 56.150002, 56.150002, 56.150002, 56.150002, 58.029999, 56.5, 56.150002, 56.150002, 57.349998, 57.509997999999996, 57.080002, 57.290001000000004, 57.119999, 57.470001, 57.470001, 57.5, 57.5, 57.5, 60.279999, 60.279999, 60.279999, 57.5, 60.810001, 59.970001, 61.299999, 62.5, 63.84, 62.669998, 63.950001, 64.120003, 64.120003, 65.389999, 65.389999, 65.389999, 65.389999, 64.120003, 63.52, 65.389999, 65.459999, 68.08000200000001, 68.150002, 68.150002, 68.150002, 68.910004, 68.910004, 68.910004, 68.989998, 68.360001, 68.360001, 68.360001, 72.510002, 72.040001, 70.5, 70.110001, 71.5, 71.5, 74.18, 73.449997, 73.449997, 73.449997, 73.449997, 73.449997, 73.800003, 72.800003, 73.589996, 73.68, 73.68, 73.68, 74.760002, 75.209999, 75.209999, 74.089996, 74.089996, 74.089996, 77.57, 78.58000200000001, 79.199997, 79.199997, 79.199997, 79.199997, 84.370003, 84.370003, 83.699997, 83.699997, 82.540001, 90.0, 92.470001, 92.470001, 93.75, 93.75, 94.790001, 94.790001, 94.790001, 94.790001, 93.639999, 89.709999, 90.610001, 90.610001, 89.82, 91.040001, 96.440002, 96.440002, 93.550003, 97.599998, 97.599998, 97.599998, 97.599998, 97.599998, 96.33000200000001, 92.959999, 95.849998, 97.91999799999999, 99.279999, 101.260002, 101.260002, 101.260002, 101.260002, 102.0, 101.089996, 102.650002, 101.099998, 101.650002, 105.400002, 104.93, 104.93, 108.08000200000001, 108.08000200000001, 108.08000200000001, 108.08000200000001, 104.93, 109.269997, 109.269997, 108.25, 113.690002, 113.050003, 114.779999, 105.349998, 108.910004, 109.32, 108.410004, 106.550003, 106.550003, 106.550003, 106.550003, 106.550003, 104.800003, 103.650002, 103.220001, 106.120003, 107.239998, 104.620003, 104.620003, 104.620003, 103.800003, 103.800003, 103.800003, 103.800003, 117.440002, 119.860001, 121.239998, 122.190002, 125.790001, 125.790001, 130.059998, 130.059998, 130.059998, 130.059998, 130.059998, 127.980003, 126.620003, 126.980003, 124.230003, 131.399994, 137.25, 137.25, 136.630005, 136.0, 138.199997, 139.440002, 138.96000700000002, 135.550003, 135.550003, 135.550003, 140.220001, 140.220001, 140.220001, 140.220001, 140.220001, 139.58999599999999, 139.229996, 137.46000700000002, 140.949997, 139.759995, 139.759995, 136.880005, 136.880005, 139.389999, 139.389999, 139.389999, 139.389999, 139.389999, 139.389999, 144.399994, 144.369995, 143.83999599999999, 143.979996, 34.099998, 31.530001000000002, 29.299999, 29.1, 29.1, 31.059998999999998, 31.059998999999998, 32.310001, 32.310001, 28.1, 27.73, 28.01, 26.73, 27.129998999999998, 27.75, 27.75, 28.219998999999998, 27.549999, 27.34, 27.219998999999998, 27.959999, 25.200001, 24.639999, 24.139999, 24.129998999999998, 24.129998999999998, 20.27, 18.889999, 19.76, 19.76, 18.58, 17.76, 18.23, 16.469998999999998, 14.61, 16.860001, 14.99, 14.99, 15.22, 16.52, 14.43, 13.77, 14.65, 14.44, 14.8, 13.72, 13.72, 9.88, 10.36, 10.51, 10.31, 10.3, 11.97, 13.02, 13.08, 13.08, 12.47, 13.3, 13.34, 12.58, 12.58, 12.58, 11.76, 13.48, 14.25, 16.200001, 17.0, 17.18, 17.33, 17.75, 17.98, 17.549999, 17.549999, 19.92, 19.58, 20.43, 20.75, 22.91, 22.91, 23.82, 24.530001000000002, 24.9, 24.9, 23.07, 23.860001, 24.879998999999998, 25.5, 26.299999, 26.360001, 29.709999, 29.709999, 27.17, 27.17, 29.940001000000002, 31.4, 32.450001, 32.290001000000004, 32.119999, 32.119999, 29.85, 28.219998999999998, 30.75, 32.450001, 35.599998, 35.23, 36.259997999999996, 36.259997999999996, 39.799999, 41.450001, 40.84, 43.759997999999996, 46.509997999999996, 42.299999, 44.09, 46.650002, 46.650002, 40.139998999999996, 40.549999, 44.02, 60.07, 57.689999, 57.689999, 49.060001, 52.990002000000004, 56.18, 56.18, 59.049999, 59.049999, 59.23, 57.599998, 60.130001, 61.459998999999996, 61.459998999999996, 51.52, 52.630001, 54.66, 52.139998999999996, 43.93, 46.400002, 44.400002, 44.400002, 45.099998, 41.959998999999996, 42.040001000000004, 37.290001000000004, 31.66, 31.66, 31.66, 34.720001, 38.599998, 41.700001, 41.700001, 41.700001, 42.360001000000004, 42.130001, 33.889998999999996, 34.16, 33.700001, 35.869999, 35.869999, 35.869999, 40.130001, 46.880001, 49.369999, 50.34, 45.900002, 45.900002, 45.900002, 48.5, 45.299999, 47.07143, 48.57143, 59.234287, 59.234287, 59.234287, 63.459998999999996, 59.712856, 63.0, 76.0, 76.0, 76.0, 76.0, 94.65142800000001, 111.019997, 111.019997, 111.019997, 111.019997, 111.5, 103.769997, 103.769997, 103.769997, 110.449997, 105.290001, 105.290001, 116.360001, 106.57, 108.910004, 108.910004, 108.910004, 108.910004, 88.230003, 105.900002, 104.309998, 109.900002, 99.489998, 99.489998, 99.489998, 101.389999, 95.029999, 97.0, 98.519997, 98.43, 85.43, 85.43, 95.75, 95.040001, 100.879997, 100.5, 100.5, 100.5, 116.629997, 116.629997, 122.760002, 115.730003, 126.389999, 130.91000400000001, 130.630005, 133.21000700000002, 133.21000700000002, 142.009995, 142.009995, 142.009995, 144.199997, 143.03999299999998, 144.429993, 147.33999599999999, 147.33999599999999, 147.33999599999999, 151.639999, 152.369995, 158.509995, 162.91000400000001, 176.119995, 176.119995, 176.119995, 181.369995, 171.429993, 194.300003, 194.300003, 195.570007, 199.699997, 201.949997, 200.110001, 200.110001, 200.110001, 183.5, 214.289993, 220.33999599999999, 220.33999599999999, 222.0, 255.05000299999998, 255.05000299999998, 255.05000299999998, 255.05000299999998, 255.05000299999998, 297.679993, 297.679993, 315.98999, 315.98999, 329.660004, 329.660004, 329.660004, 393.799988, 411.339996, 415.160004, 398.980011, 346.950012, 346.950012, 346.950012, 346.950012, 378.52999900000003, 339.570007, 337.23999, 378.329987, 378.329987, 378.329987, 378.329987, 360.670013, 263.829987, 330.959991, 334.23999, 334.23999, 349.600006, 349.600006, 351.97000099999997, 351.97000099999997, 351.97000099999997, 351.97000099999997, 366.25, 355.0, 365.049988, 365.049988, 365.049988, 365.049988, 382.769989, 370.089996, 366.25, 323.76001, 323.76001, 323.76001, 280.26001, 266.179993, 271.98999, 273.02999900000003, 283.929993, 304.48999, 304.48999, 304.48999, 304.48999, 289.98999, 313.929993, 48.904999, 51.314999, 52.435001, 52.544998, 54.185001, 54.185001, 54.185001, 56.035, 61.564999, 61.564999, 61.564999, 62.994999, 63.610001000000004, 63.610001000000004, 63.130001, 65.849998, 68.120003, 68.120003, 68.120003, 61.720001, 61.759997999999996, 63.549999, 63.549999, 64.83000200000001, 61.330002, 61.330002, 53.330002, 54.459998999999996, 55.0, 54.5, 54.5, 54.5, 54.5, 55.02, 54.25, 54.599998, 54.599998, 54.599998, 52.240002000000004, 51.060001, 52.900002, 52.900002, 52.900002, 56.939999, 56.43, 58.779999, 54.759997999999996, 54.759997999999996, 54.759997999999996, 54.759997999999996, 54.759997999999996, 54.759997999999996, 51.75, 52.049999, 53.189999, 56.599998, 56.599998, 56.599998, 57.599998, 54.439999, 54.029999, 52.740002000000004, 53.869999, 52.779999, 52.169998, 52.169998, 52.790001000000004, 53.060001, 53.900002, 55.259997999999996, 55.259997999999996, 64.290001, 61.200001, 61.200001, 65.480003, 66.699997, 66.699997, 68.5, 70.760002, 78.760002, 78.760002, 85.690002, 82.610001, 82.610001, 82.610001, 77.400002, 74.440002, 77.099998, 73.870003, 73.870003, 68.730003, 73.290001, 73.290001, 73.290001, 85.699997, 88.220001, 85.199997, 85.199997, 85.199997, 84.900002, 85.160004, 83.989998, 83.989998, 88.099998, 86.650002, 81.940002, 88.0, 88.0, 91.779999, 91.779999, 91.779999, 91.779999, 94.129997, 93.5, 95.029999, 90.849998, 89.370003, 89.730003, 92.620003, 97.139999, 98.33000200000001, 96.019997, 96.730003, 100.050003, 100.050003, 100.050003, 100.050003, 99.300003, 98.220001, 99.160004, 93.989998, 96.529999, 97.25, 96.66999799999999, 96.66999799999999, 96.66999799999999, 96.66999799999999, 95.709999, 95.16999799999999, 95.150002, 92.769997, 94.040001, 95.709999, 95.709999, 97.339996, 97.339996, 97.339996, 97.339996, 97.339996, 95.41999799999999, 92.940002, 92.550003, 94.910004, 94.910004, 94.910004, 97.959999, 97.959999, 97.959999, 97.959999, 97.190002, 103.32, 97.470001, 97.139999, 98.209999, 96.389999, 96.389999, 96.400002, 96.400002, 99.57, 99.57, 99.57, 98.459999, 101.459999, 103.989998, 104.16999799999999, 103.239998, 104.160004, 104.160004, 104.160004, 104.160004, 103.809998, 105.75, 103.980003, 101.769997, 106.230003, 105.66999799999999, 105.66999799999999, 108.529999, 108.529999, 108.529999, 108.529999, 108.529999, 108.529999, 108.040001, 107.239998, 109.5, 109.5, 109.5, 109.5, 109.5, 108.370003, 106.760002, 105.83000200000001, 105.349998, 105.349998, 105.349998, 107.150002, 107.150002, 107.150002, 109.370003, 109.370003, 109.370003, 109.16999799999999, 111.540001, 113.519997, 113.550003, 111.75, 111.75, 111.75, 111.75, 111.75, 111.75, 111.75, 113.099998, 112.339996, 114.970001, 115.410004, 113.339996, 113.339996, 113.339996, 113.339996, 113.339996, 113.339996, 114.489998, 118.290001, 111.870003, 109.910004, 106.940002, 106.940002, 106.940002, 106.940002, 106.940002, 106.940002, 109.660004, 110.809998, 112.0, 112.0, 112.0, 112.0, 112.0, 112.0, 111.66999799999999, 109.349998, 102.25, 102.25, 102.25, 102.25, 102.220001, 96.639999, 108.41999799999999, 110.620003, 110.620003, 110.620003, 110.620003, 112.639999, 111.68, 114.769997, 117.25, 117.25, 114.989998, 114.989998, 110.449997, 110.449997, 110.449997, 110.449997, 109.209999, 117.139999, 107.860001, 108.93, 112.949997, 115.849998, 115.849998, 115.849998, 113.0, 113.0, 113.0, 115.75, 121.739998, 125.0, 125.0, 125.0, 125.0, 128.229996, 132.25, 131.990005, 133.0, 133.0, 133.0, 133.0, 132.399994, 134.080002, 133.169998, 133.169998, 135.270004, 136.929993, 138.440002, 138.440002, 138.440002, 138.440002, 138.440002, 137.699997, 41.165001000000004, 41.165001000000004, 41.165001000000004, 41.165001000000004, 41.165001000000004, 41.165001000000004, 41.165001000000004, 41.165001000000004, 41.165001000000004, 41.165001000000004, 41.165001000000004, 41.165001000000004, 41.165001000000004, 41.165001000000004, 41.165001000000004, 41.165001000000004, 41.165001000000004, 41.165001000000004, 41.165001000000004, 41.165001000000004, 41.165001000000004, 41.165001000000004, 41.165001000000004, 41.165001000000004, 41.165001000000004, 41.165001000000004, 41.165001000000004, 41.165001000000004, 41.165001000000004, 41.165001000000004, 41.165001000000004, 41.165001000000004, 41.165001000000004, 40.494999, 40.68, 43.25, 43.25, 43.25, 46.650002, 51.32, 51.32, 56.959998999999996, 57.540001000000004, 59.0, 59.0, 59.0, 57.970001, 58.669998, 58.700001, 55.75, 55.75, 55.75, 57.59, 61.630001, 59.41, 59.41, 59.41, 60.68, 58.25, 55.23, 55.23, 55.23, 55.23, 53.490002000000004, 54.119999, 55.150002, 54.16, 54.16, 54.16, 57.360001000000004, 59.25, 61.209998999999996, 61.029999, 57.939999, 57.939999, 57.939999, 58.48, 58.07, 58.07, 58.07, 58.07, 58.990002000000004, 57.27, 57.400002, 57.400002, 57.099998, 56.650002, 54.830002, 54.830002, 54.830002, 51.16, 51.68, 51.5, 51.5, 51.5, 52.459998999999996, 55.82, 58.299999, 61.990002000000004, 61.990002000000004, 61.990002000000004, 66.860001, 66.220001, 64.440002, 64.440002, 64.440002, 64.440002, 65.160004, 66.610001, 66.610001, 67.029999, 67.029999, 70.760002, 75.480003, 75.480003, 76.949997, 76.949997, 76.949997, 76.949997, 77.58000200000001, 82.300003, 84.650002, 88.660004, 89.900002, 96.400002, 96.400002, 96.400002, 96.400002, 96.400002, 98.050003, 94.480003, 85.949997, 84.470001, 84.610001, 84.610001, 86.709999, 86.709999, 86.709999, 86.709999, 33.869999, 33.32, 33.32, 33.09, 33.09, 33.470001, 33.470001, 33.310001, 32.880001, 32.880001, 32.779999, 32.779999, 33.450001, 33.450001, 33.630001, 34.450001, 34.75, 35.57, 36.130001, 36.029999, 34.849998, 34.279999, 34.279999, 34.66, 34.220001, 34.549999, 33.860001000000004, 34.009997999999996, 34.009997999999996, 33.91, 32.740002000000004, 32.27, 31.99, 32.360001000000004, 33.459998999999996, 34.700001, 34.700001, 32.860001000000004, 33.759997999999996, 33.759997999999996, 35.029999, 34.990002000000004, 34.990002000000004, 36.810001, 39.419998, 37.860001000000004, 37.860001000000004, 37.860001000000004, 39.02, 39.490002000000004, 40.439999, 43.209998999999996, 42.549999, 42.529999, 42.529999, 42.529999, 39.799999, 40.049999, 39.099998, 39.23, 36.509997999999996, 36.509997999999996, 36.509997999999996, 36.860001000000004, 36.860001000000004, 39.18, 41.169998, 40.599998, 40.32, 40.080002, 40.02, 38.450001, 36.290001000000004, 36.220001, 36.220001, 37.490002000000004, 35.310001, 34.259997999999996, 34.43, 36.349998, 38.139998999999996, 38.509997999999996, 38.509997999999996, 38.509997999999996, 36.810001, 37.18, 34.869999, 33.439999, 33.139998999999996, 33.0, 32.0, 32.099998, 31.98, 32.060001, 32.060001, 31.33, 31.25, 31.25, 31.1, 31.1, 32.139998999999996, 32.209998999999996, 32.259997999999996, 32.130001, 32.279999, 32.48, 33.490002000000004, 31.73, 31.73, 31.73, 31.73, 30.65, 30.629998999999998, 30.629998999999998, 30.99, 30.440001000000002, 30.440001000000002, 30.709999, 30.709999, 31.74, 30.440001000000002, 29.959999, 29.959999, 29.959999, 29.959999, 29.5, 29.5, 31.139999, 30.51, 32.209998999999996, 31.07, 31.07, 31.07, 30.639999, 30.639999, 30.469998999999998, 30.700001, 32.18, 32.330002, 31.059998999999998, 32.18, 32.18, 32.18, 32.18, 33.580002, 33.580002, 34.049999, 34.970001, 35.080002, 37.82, 37.209998999999996, 37.209998999999996, 38.369999, 37.029999, 37.209998999999996, 38.299999, 38.299999, 38.299999, 38.299999, 38.490002000000004, 38.389998999999996, 38.389998999999996, 38.950001, 39.259997999999996, 39.349998, 37.75, 47.049999, 45.16, 43.779999, 45.080002, 45.080002, 45.439999, 46.200001, 50.27, 50.27, 50.900002, 52.139998999999996, 52.139998999999996, 52.52, 50.919998, 50.919998, 50.0, 52.84, 52.900002, 52.900002, 52.950001, 51.59, 51.77, 47.490002000000004, 47.950001, 47.950001, 52.459998999999996, 49.959998999999996, 49.959998999999996, 49.279999, 45.310001, 45.310001, 44.5, 43.150002, 43.630001, 48.369999, 48.369999, 48.369999, 49.240002000000004, 44.330002, 44.209998999999996, 52.119999, 52.119999, 48.759997999999996, 48.150002, 48.75, 48.75, 48.540001000000004, 48.540001000000004, 47.099998, 48.330002, 48.740002000000004, 48.740002000000004, 48.59, 54.259997999999996, 54.84, 54.84, 54.84, 61.029999, 61.029999, 57.290001000000004, 57.290001000000004, 57.290001000000004, 57.150002, 57.150002, 56.09, 56.09, 56.09, 56.189999, 56.759997999999996, 58.91, 59.150002, 59.09, 59.09, 56.599998, 56.779999, 56.779999, 56.779999, 59.400002, 59.490002000000004, 59.490002000000004, 59.490002000000004, 46.790001000000004, 47.48, 48.119999, 47.849998, 47.849998, 48.25, 48.25, 48.25, 49.150002, 48.970001, 48.970001, 48.970001, 50.450001, 49.400002, 49.400002, 49.220001, 47.48, 46.98, 46.98, 46.98, 46.790001000000004, 45.990002000000004, 44.919998, 44.919998, 44.919998, 44.919998, 45.439999, 46.700001, 45.439999, 44.740002000000004, 45.0, 45.0, 45.0, 45.0, 46.41, 50.27, 52.52, 52.360001000000004, 50.560001, 50.560001, 50.560001, 50.560001, 50.560001, 50.529999, 51.41, 50.77, 50.599998, 53.889998999999996, 56.209998999999996, 55.75, 56.099998, 55.849998, 54.950001, 54.950001, 51.889998999999996, 50.209998999999996, 49.540001000000004, 49.540001000000004, 49.540001000000004, 48.790001000000004, 47.740002000000004, 52.080002, 52.459998999999996, 51.369999, 52.52, 50.259997999999996, 50.259997999999996, 50.259997999999996, 49.5, 48.75, 48.27, 48.27, 49.68, 49.0, 49.439999, 47.919998, 47.919998, 47.919998, 47.919998, 47.919998, 46.52, 46.52, 46.310001, 46.310001, 46.310001, 46.259997999999996, 46.259997999999996, 46.259997999999996, 47.700001, 47.700001, 48.900002, 47.779999, 47.779999, 47.0, 49.189999, 50.049999, 50.049999, 50.049999, 50.049999, 50.049999, 49.450001, 48.84, 51.900002, 54.599998, 54.599998, 54.599998, 54.599998, 53.82, 53.82, 49.02, 49.919998, 49.919998, 49.919998, 49.919998, 50.060001, 50.060001, 46.68, 48.07, 47.790001000000004, 48.330002, 47.889998999999996, 48.450001, 47.669998, 51.25, 51.25, 51.25, 51.689999, 52.27, 54.509997999999996, 53.02, 54.75, 53.799999, 56.09, 56.09, 56.09, 56.09, 55.810001, 56.509997999999996, 59.060001, 59.060001, 59.5, 57.799999, 57.790001000000004, 55.720001, 57.27, 53.619999, 53.619999, 53.099998, 53.099998, 54.450001, 55.060001, 56.43, 57.369999, 58.27, 57.619999, 57.619999, 57.34, 57.34, 57.34, 57.150002, 57.110001000000004, 57.110001000000004, 57.110001000000004, 55.110001000000004, 57.990002000000004, 60.599998, 60.599998, 60.599998, 60.880001, 60.450001, 59.299999, 59.490002000000004, 86.629997, 84.5, 84.5, 82.730003, 82.279999, 80.730003, 78.18, 78.18, 78.18, 76.480003, 74.16999799999999, 71.83000200000001, 70.0, 70.0, 68.870003, 66.620003, 66.610001, 59.700001, 59.34, 60.040001000000004, 63.740002000000004, 63.889998999999996, 68.099998, 69.33000200000001, 70.5, 71.519997, 71.519997, 71.309998, 70.949997, 71.599998, 73.66999799999999, 73.879997, 74.0, 74.0, 72.93, 74.099998, 70.790001, 72.639999, 71.83000200000001, 71.83000200000001, 71.66999799999999, 71.66999799999999, 69.260002, 69.08000200000001, 69.08000200000001, 69.08000200000001, 67.010002, 66.209999, 71.209999, 71.209999, 72.25, 72.099998, 76.5, 76.889999, 76.889999, 76.889999, 79.800003, 79.599998, 79.599998, 73.949997, 75.599998, 80.25, 78.849998, 78.849998, 78.849998, 78.849998, 78.779999, 79.5, 82.68, 82.68, 82.68, 84.58000200000001, 84.58000200000001, 90.339996, 95.120003, 95.120003, 95.120003, 96.849998, 99.699997, 99.699997, 99.699997, 100.389999, 102.550003, 96.989998, 96.989998, 96.989998, 95.110001, 92.900002, 87.269997, 88.510002, 86.220001, 88.0, 87.16999799999999, 87.940002, 82.559998, 82.559998, 87.040001, 87.040001, 87.040001, 84.239998, 83.940002, 83.5, 100.110001, 100.110001, 100.110001, 97.769997, 97.66999799999999, 95.959999, 95.5, 95.5, 93.25, 94.699997, 94.699997, 95.18, 95.18, 95.18, 96.0, 105.0, 102.32, 102.32, 102.32, 98.82, 96.32, 98.870003, 93.860001, 97.68, 102.379997, 102.379997, 102.379997, 102.379997, 98.699997, 101.300003, 99.760002, 100.139999, 102.83000200000001, 102.83000200000001, 102.83000200000001, 100.239998, 105.230003, 104.489998, 106.480003, 109.0, 111.91999799999999, 106.720001, 112.529999, 112.529999, 112.529999, 112.529999, 113.68, 116.540001, 116.540001, 116.400002, 118.900002, 119.91999799999999, 119.849998, 118.400002, 118.400002, 124.599998, 124.599998, 124.599998, 124.599998, 120.68, 87.849998, 87.849998, 90.900002, 88.889999, 87.959999, 87.849998, 87.849998, 81.66999799999999, 78.699997, 74.410004, 82.470001, 82.300003, 76.660004, 74.190002, 75.529999, 75.529999, 80.949997, 82.660004, 82.660004, 82.660004, 88.68, 88.239998, 88.239998, 89.800003, 92.33000200000001, 94.91999799999999, 87.610001, 87.610001, 88.08000200000001, 88.08000200000001, 86.790001, 85.279999, 83.879997, 83.879997, 83.879997, 86.58000200000001, 87.059998, 87.059998, 85.339996, 85.040001, 85.040001, 85.040001, 85.040001, 84.0, 84.0, 81.699997, 82.800003, 82.800003, 82.459999, 82.459999, 81.07, 81.510002, 81.510002, 80.440002, 79.650002, 79.650002, 79.83000200000001, 77.260002, 76.18, 83.0, 83.0, 83.0, 83.709999, 83.18, 85.129997, 87.5, 83.279999, 75.529999, 74.889999, 74.5, 74.230003, 74.0, 78.91999799999999, 76.949997, 76.949997, 79.599998, 81.720001, 80.970001, 80.970001, 82.129997, 84.790001, 77.620003, 81.760002, 79.83000200000001, 82.5, 72.599998, 72.290001, 75.760002, 78.68, 80.110001, 82.150002, 80.269997, 80.269997, 77.129997, 76.91999799999999, 72.610001, 73.739998, 69.910004, 71.239998, 69.209999, 68.389999]\n"
     ]
    }
   ],
   "source": [
    "print(init_prices)"
   ]
  },
  {
   "cell_type": "code",
   "execution_count": 80,
   "metadata": {},
   "outputs": [],
   "source": [
    "#similar to getting initial prices above - just gets the price of that stock x amount of days after date ER report comes out\n",
    "def get_timeframe(time):\n",
    "    init_price_pointer = 0\n",
    "    time_l = []\n",
    "    holder = []\n",
    "    interval = datetime.timedelta(float(time))\n",
    "    for ticker in ticker_list:\n",
    "        #init vars, lists, and dataframes\n",
    "        stockfpointer = 0\n",
    "        pt_pointer = 0\n",
    "        stock_frame = pd.read_csv('/Users/Ethan Ohman/Desktop/Equity Research/{0}/{0}_price_data.csv'.format(ticker))\n",
    "        stock_frame['Date'] = stock_frame['Date'].apply(convert_date)\n",
    "        min_date = stock_frame['Date'].min()\n",
    "        max_value = stock_frame['Close'].max()\n",
    "        dummy_frame = data[(data['Stock']== ticker)&(data['Date'] >= min_date)]\n",
    "        dummy_frame = dummy_frame.iloc[::-1]\n",
    "        length_frame = len(dummy_frame)\n",
    "        \n",
    "        #bound to only valid data\n",
    "        max_date = dummy_frame['Date'].max() - interval\n",
    "        dummy_frame = dummy_frame[(dummy_frame['Date'] <= max_date)]\n",
    "        new_len = len(dummy_frame)\n",
    "        for date in dummy_frame['Date']:\n",
    "            price_target = init_prices[init_price_pointer]\n",
    "            while (date+interval) > stock_frame.iloc[stockfpointer]['Date']:\n",
    "                stockfpointer += 1\n",
    "            if((date+interval) == stock_frame.iloc[stockfpointer]['Date']):\n",
    "                holder.append(float(stock_frame.iloc[stockfpointer]['Close'])-float(price_target))\n",
    "            else:\n",
    "                try:\n",
    "                    holder.append(float(stock_frame.iloc[stockfpointer+1]['Close'])-float(price_target))\n",
    "                except:\n",
    "                    holder.append(max_value-price_target)\n",
    "            pt_pointer += 1\n",
    "            init_price_pointer += 1\n",
    "        #imputation\n",
    "        for rep in range(length_frame-new_len):\n",
    "            holder.append(max_value-price_target)\n",
    "#         print(len(holder))\n",
    "        time_l += holder[::-1]\n",
    "        holder.clear()\n",
    "#     print(len(time_l))\n",
    "    return time_l"
   ]
  },
  {
   "cell_type": "code",
   "execution_count": 81,
   "metadata": {},
   "outputs": [],
   "source": [
    "time_oneday = get_timeframe(1)\n",
    "time_threeday = get_timeframe(3)\n",
    "time_week = get_timeframe(7)\n",
    "time_twoweek = get_timeframe(14)"
   ]
  },
  {
   "cell_type": "code",
   "execution_count": 83,
   "metadata": {},
   "outputs": [
    {
     "name": "stdout",
     "output_type": "stream",
     "text": [
      "3920\n",
      "3920\n",
      "3920\n",
      "3920\n"
     ]
    }
   ],
   "source": [
    "print(len(time_oneday))\n",
    "print(len(time_threeday))\n",
    "print(len(time_week))\n",
    "print(len(time_twoweek))"
   ]
  },
  {
   "cell_type": "code",
   "execution_count": 120,
   "metadata": {},
   "outputs": [],
   "source": [
    "add_on = pd.DataFrame({'Volume':volume, '1 day':time_oneday,'3 day':time_threeday,'1 week':time_week,'2 week':time_twoweek})\n",
    "add_on.head(100)\n",
    "f_data = pd.DataFrame()\n",
    "f_data['Price Target'] = pr_d['Price Target']\n",
    "for col in senti_data.columns:\n",
    "    f_data[col] = senti_data[col]\n",
    "f_data['negative'] = [0]*len(f_data['positive'])\n",
    "for ticker in ticker_list:\n",
    "    f_data[ticker] = steck_data[ticker]\n",
    "for bank in bank_list:\n",
    "    f_data[bank] = bank_data[bank]\n",
    "for col in add_on.columns:\n",
    "    f_data[col] = add_on[col]\n",
    "f_data['Accuracy Metric'] = metric_list\n",
    "f_data['Text'] = t_d['Text']\n",
    "\n",
    "# f_data = pd.concat([senti_data,steck_data,bank_data,add_on], sort=False)\n",
    "# f_data = f_data.append(senti_data, sort=False,ignore_index=True)\n",
    "# f_data = f_data.append(steck_data, sort=False,ignore_index=True)\n",
    "# f_data = f_data.append(bank_data, sort=False,ignore_index=True)\n",
    "# f_data = f_data.append(add_on, sort=False,ignore_index=True)\n",
    "f_data.shape\n",
    "f_data.to_csv('/Users/Ethan Ohman/Desktop/final_data.csv')"
   ]
  },
  {
   "cell_type": "code",
   "execution_count": null,
   "metadata": {},
   "outputs": [],
   "source": [
    "#UNUSED FUNCTION:\n",
    "# def clean_metric(metric, avg):\n",
    "#     if(metric == 'MAX'):\n",
    "#         return avg\n",
    "#     return metric\n",
    "\n",
    "# accuracy_metric = []\n",
    "# temp_series = []\n",
    "# for ticker in ticker_list: \n",
    "#     stock_data = pd.read_csv('/Users/Ethan Ohman/Desktop/Equity Research/{0}/{0}_price_data.csv'.format(ticker))\n",
    "#     stock_data['Date'] = stock_data['Date'].apply(convert_date)\n",
    "#     stock_data = stock_data.iloc[::-1]\n",
    "#     min_date = stock_data['Date'].min()\n",
    "#     max_stock_price = stock_data['Close'].max()\n",
    "#     dummy_frame = data[(data['Stock'] == ticker)&(data['Date'] >= min_date)]\n",
    "    \n",
    "#     for index in range(len(dummy_frame['Date'])-1,-1,-1):\n",
    "#         price_target = dummy_frame.iloc[index]['Price Target']\n",
    "#         dummy_date = dummy_frame.iloc[index]['Date']\n",
    "#         stock_data_marker = 0\n",
    "#         if(float(price_target) > float(max_stock_price)): \n",
    "#             temp_series.append(None)\n",
    "#             print('append none1')\n",
    "#             continue\n",
    "#         while(not(abs(stock_data.iloc[stock_data_marker]['Close']- float(price_target)) <= 10)): \n",
    "#             stock_data_marker += 1\n",
    "#             if(stock_data_marker == len(dummy_frame['Date'])-1):\n",
    "#                 temp_series.append(None)\n",
    "#                 print('append none2')\n",
    "#                 continue\n",
    "#         time_diff = (stock_data.iloc[stock_data_marker]['Date']- dummy_date).days\n",
    "#         print(stock_data.iloc[stock_data_marker]['Date'])\n",
    "#         print(dummy_date)\n",
    "#         print(time_diff)\n",
    "#         price_diff = abs(stock_data.iloc[stock_data_marker]['Close']- float(price_target))\n",
    "#         if(price_diff == 0):\n",
    "#             pric_diff = 0.001\n",
    "#         metric = time_diff*price_diff\n",
    "#         print(metric)\n",
    "#         temp_series.append(metric)\n",
    "#     accuracy_metric += temp_series[::-1]\n",
    "#     print(accuracy_metric)\n",
    "#     print(ticker)\n",
    "# #     print(accuracy_metric)\n",
    "# metric_series = pd.Series(accuracy_metric)\n",
    "# metric_series.fillna(metric_series.mean())\n",
    "    \n",
    "    \n",
    "        \n",
    "        \n",
    "    \n",
    "# loop by stock data \n",
    "    # make sure to reverse stock data so that it starts high and goes low\n",
    "    #then loop inside dummy stock data (backwards so it starts from low to high)\n",
    "    # grab prcice target from dummy stock and main stock data \n",
    "    \n",
    "    #Loop through stock data\n",
    "    # if Max Price in Time Frame is less than PT, return MAX- as a string, will be filled in later\n",
    "    # If within 5 dollars of each other, add (timeframe x difference in price target) -- high means not accurate low means accurate\n",
    "        # if diff is zero - multiply the number by 0.001\n",
    "    # make data a series and apply formatting \n",
    "    # flip list at the end\n",
    "    # append it to a main series \n",
    "    \n",
    "# MAKE A DATE CATCHER\n",
    "    \n",
    "#Fill method\n",
    "    # if string == max fill with col average"
   ]
  }
 ],
 "metadata": {
  "kernelspec": {
   "display_name": "Python 3",
   "language": "python",
   "name": "python3"
  },
  "language_info": {
   "codemirror_mode": {
    "name": "ipython",
    "version": 3
   },
   "file_extension": ".py",
   "mimetype": "text/x-python",
   "name": "python",
   "nbconvert_exporter": "python",
   "pygments_lexer": "ipython3",
   "version": "3.7.3"
  }
 },
 "nbformat": 4,
 "nbformat_minor": 2
}
